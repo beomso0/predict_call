{
 "cells": [
  {
   "cell_type": "code",
   "execution_count": 1,
   "metadata": {},
   "outputs": [
    {
     "name": "stderr",
     "output_type": "stream",
     "text": [
      "2022-02-23 19:02:18.065 INFO    numexpr.utils: NumExpr defaulting to 8 threads.\n"
     ]
    }
   ],
   "source": [
    "import traceback\n",
    "from asyncore import close_all\n",
    "from base64 import encode\n",
    "from cProfile import label\n",
    "from concurrent.futures import process\n",
    "from distutils.command.upload import upload\n",
    "from matplotlib.pyplot import axis\n",
    "from pygments import highlight\n",
    "import streamlit as st\n",
    "import pandas as pd\n",
    "import numpy as np\n",
    "import joblib \n",
    "import ast\n",
    "import math\n",
    "import datetime\n",
    "# from pycaret.regression import *\n",
    "import s3fs\n",
    "import os\n",
    "import pickle\n",
    "from catboost import CatBoostRegressor\n",
    "import lightgbm as lgb\n",
    "from category_encoders.cat_boost import CatBoostEncoder\n",
    "from sklearn.metrics import mean_absolute_error, mean_squared_error\n",
    "from sklearn import metrics\n",
    "from sklearn.ensemble import ExtraTreesRegressor\n",
    "from sklearn.preprocessing import PowerTransformer\n",
    "import preprocess"
   ]
  },
  {
   "cell_type": "code",
   "execution_count": 22,
   "metadata": {},
   "outputs": [],
   "source": [
    "model = joblib.load('C:/Users/User/Documents/Hyundai/model/final_model.pkl')\n",
    "encoder = joblib.load('C:/Users/User/Documents/Hyundai/model/cat_encoder.pkl')\n",
    "transformer = joblib.load('C:/Users/User/Documents/Hyundai/model/boxcox_transformer.pkl')\n",
    "train_df = preprocess.process_backup('C:/Users/User/Documents/Hyundai/example_df.csv')\n",
    "midcat_name = joblib.load('C:/Users/User/Documents/Hyundai/model/midcat_score.pkl')\n",
    "brand_name = joblib.load('C:/Users/User/Documents/Hyundai/model/brand_score.pkl')\n",
    "limit_name = joblib.load('C:/Users/User/Documents/Hyundai/model/expression_score.pkl')\n",
    "score_lists = [midcat_name, brand_name,limit_name]"
   ]
  },
  {
   "cell_type": "code",
   "execution_count": 23,
   "metadata": {},
   "outputs": [
    {
     "data": {
      "text/html": [
       "<div>\n",
       "<style scoped>\n",
       "    .dataframe tbody tr th:only-of-type {\n",
       "        vertical-align: middle;\n",
       "    }\n",
       "\n",
       "    .dataframe tbody tr th {\n",
       "        vertical-align: top;\n",
       "    }\n",
       "\n",
       "    .dataframe thead th {\n",
       "        text-align: right;\n",
       "    }\n",
       "</style>\n",
       "<table border=\"1\" class=\"dataframe\">\n",
       "  <thead>\n",
       "    <tr style=\"text-align: right;\">\n",
       "      <th></th>\n",
       "      <th>target</th>\n",
       "      <th>date_input</th>\n",
       "      <th>holiday_input</th>\n",
       "      <th>temp_input</th>\n",
       "      <th>pgm_input</th>\n",
       "      <th>start_time_input</th>\n",
       "      <th>end_time_input</th>\n",
       "      <th>duration_input</th>\n",
       "      <th>showhost_input</th>\n",
       "      <th>expression_input</th>\n",
       "      <th>live_input</th>\n",
       "      <th>midcat_input</th>\n",
       "      <th>brand_input</th>\n",
       "      <th>price_min_input</th>\n",
       "      <th>price_max_input</th>\n",
       "      <th>price_mean_input</th>\n",
       "      <th>product_num_input</th>\n",
       "    </tr>\n",
       "  </thead>\n",
       "  <tbody>\n",
       "    <tr>\n",
       "      <th>0</th>\n",
       "      <td>432</td>\n",
       "      <td>2022-03-04</td>\n",
       "      <td>True</td>\n",
       "      <td>7</td>\n",
       "      <td>345321</td>\n",
       "      <td>21</td>\n",
       "      <td>22</td>\n",
       "      <td>60</td>\n",
       "      <td>[신성애, 이경은]</td>\n",
       "      <td>[기간한정]</td>\n",
       "      <td>True</td>\n",
       "      <td>[건강, 영상/음향, 헬스용품]</td>\n",
       "      <td>[아이스크림홈런, 헤드]</td>\n",
       "      <td>130</td>\n",
       "      <td>220</td>\n",
       "      <td>100</td>\n",
       "      <td>10</td>\n",
       "    </tr>\n",
       "    <tr>\n",
       "      <th>1</th>\n",
       "      <td>123</td>\n",
       "      <td>2022-03-24</td>\n",
       "      <td>True</td>\n",
       "      <td>10</td>\n",
       "      <td>211432</td>\n",
       "      <td>12</td>\n",
       "      <td>13</td>\n",
       "      <td>70</td>\n",
       "      <td>[최현우]</td>\n",
       "      <td>[기간한정, 최대]</td>\n",
       "      <td>True</td>\n",
       "      <td>[계절가전]</td>\n",
       "      <td>[LG(엘지), 삼성(SAMSUNG)]</td>\n",
       "      <td>1000</td>\n",
       "      <td>2000</td>\n",
       "      <td>1500</td>\n",
       "      <td>4</td>\n",
       "    </tr>\n",
       "  </tbody>\n",
       "</table>\n",
       "</div>"
      ],
      "text/plain": [
       "   target  date_input  holiday_input  temp_input  pgm_input  start_time_input  \\\n",
       "0     432  2022-03-04           True           7     345321                21   \n",
       "1     123  2022-03-24           True          10     211432                12   \n",
       "\n",
       "   end_time_input  duration_input showhost_input expression_input  live_input  \\\n",
       "0              22              60     [신성애, 이경은]           [기간한정]        True   \n",
       "1              13              70          [최현우]       [기간한정, 최대]        True   \n",
       "\n",
       "        midcat_input            brand_input  price_min_input  price_max_input  \\\n",
       "0  [건강, 영상/음향, 헬스용품]          [아이스크림홈런, 헤드]              130              220   \n",
       "1             [계절가전]  [LG(엘지), 삼성(SAMSUNG)]             1000             2000   \n",
       "\n",
       "   price_mean_input  product_num_input  \n",
       "0               100                 10  \n",
       "1              1500                  4  "
      ]
     },
     "execution_count": 23,
     "metadata": {},
     "output_type": "execute_result"
    }
   ],
   "source": [
    "train_df"
   ]
  },
  {
   "cell_type": "code",
   "execution_count": 24,
   "metadata": {},
   "outputs": [
    {
     "name": "stderr",
     "output_type": "stream",
     "text": [
      "c:\\Users\\User\\Documents\\Hyundai\\preprocess.py:53: FutureWarning: The frame.append method is deprecated and will be removed from pandas in a future version. Use pandas.concat instead.\n",
      "  temp = temp.append(new,ignore_index=True)\n",
      "c:\\Users\\User\\Documents\\Hyundai\\preprocess.py:53: FutureWarning: The frame.append method is deprecated and will be removed from pandas in a future version. Use pandas.concat instead.\n",
      "  temp = temp.append(new,ignore_index=True)\n",
      "c:\\Users\\User\\Documents\\Hyundai\\preprocess.py:53: FutureWarning: The frame.append method is deprecated and will be removed from pandas in a future version. Use pandas.concat instead.\n",
      "  temp = temp.append(new,ignore_index=True)\n",
      "c:\\Users\\User\\Documents\\Hyundai\\preprocess.py:53: FutureWarning: The frame.append method is deprecated and will be removed from pandas in a future version. Use pandas.concat instead.\n",
      "  temp = temp.append(new,ignore_index=True)\n",
      "c:\\Users\\User\\Documents\\Hyundai\\preprocess.py:53: FutureWarning: The frame.append method is deprecated and will be removed from pandas in a future version. Use pandas.concat instead.\n",
      "  temp = temp.append(new,ignore_index=True)\n",
      "c:\\Users\\User\\Documents\\Hyundai\\preprocess.py:53: FutureWarning: The frame.append method is deprecated and will be removed from pandas in a future version. Use pandas.concat instead.\n",
      "  temp = temp.append(new,ignore_index=True)\n"
     ]
    }
   ],
   "source": [
    "y_train = transformer.transform(np.array(train_df['target']).reshape(-1,1))\n",
    "X_train = preprocess.process_input(train_df.drop('target',axis=1), score_lists,encoder)"
   ]
  },
  {
   "cell_type": "code",
   "execution_count": null,
   "metadata": {},
   "outputs": [],
   "source": [
    "from catboost import CatBoostRegressor\n",
    "RANDOM_STATE = 42\n",
    "learning_rate = 0.05\n",
    "n_estimators = 5000\n",
    "\n",
    "model = CatBoostRegressor(\n",
    "    iterations=None, learning_rate=learning_rate, depth=None,\n",
    "    loss_function='RMSE', verbose=False,\n",
    "    eval_metric='RMSE', max_depth=None, n_estimators=n_estimators, task_type='GPU',\n",
    "    boosting_type=None, random_state=RANDOM_STATE\n",
    "    )"
   ]
  },
  {
   "cell_type": "code",
   "execution_count": 25,
   "metadata": {},
   "outputs": [
    {
     "name": "stdout",
     "output_type": "stream",
     "text": [
      "(2, 32) (2, 1)\n"
     ]
    }
   ],
   "source": [
    "print(X_train.shape, y_train.shape)"
   ]
  },
  {
   "cell_type": "code",
   "execution_count": 27,
   "metadata": {},
   "outputs": [
    {
     "ename": "TypeError",
     "evalue": "'CatBoostRegressor' object is not callable",
     "output_type": "error",
     "traceback": [
      "\u001b[1;31m---------------------------------------------------------------------------\u001b[0m",
      "\u001b[1;31mTypeError\u001b[0m                                 Traceback (most recent call last)",
      "\u001b[1;32mc:\\Users\\User\\Documents\\Hyundai\\make_train.ipynb Cell 6'\u001b[0m in \u001b[0;36m<module>\u001b[1;34m\u001b[0m\n\u001b[1;32m----> <a href='vscode-notebook-cell:/c%3A/Users/User/Documents/Hyundai/make_train.ipynb#ch0000019?line=0'>1</a>\u001b[0m model \u001b[39m=\u001b[39m model(task_type\u001b[39m=\u001b[39;49m\u001b[39mNone\u001b[39;49;00m)\n",
      "\u001b[1;31mTypeError\u001b[0m: 'CatBoostRegressor' object is not callable"
     ]
    }
   ],
   "source": [
    "model = model(task_type=None)"
   ]
  },
  {
   "cell_type": "code",
   "execution_count": 26,
   "metadata": {},
   "outputs": [
    {
     "ename": "CatBoostError",
     "evalue": "C:/Program Files (x86)/Go Agent/pipelines/BuildMaster/catboost.git/catboost/cuda/cuda_lib/cuda_base.h:281: CUDA error 35: CUDA driver version is insufficient for CUDA runtime version",
     "output_type": "error",
     "traceback": [
      "\u001b[1;31m---------------------------------------------------------------------------\u001b[0m",
      "\u001b[1;31mCatBoostError\u001b[0m                             Traceback (most recent call last)",
      "\u001b[1;32mc:\\Users\\User\\Documents\\Hyundai\\make_train.ipynb Cell 6'\u001b[0m in \u001b[0;36m<module>\u001b[1;34m\u001b[0m\n\u001b[1;32m----> <a href='vscode-notebook-cell:/c%3A/Users/User/Documents/Hyundai/make_train.ipynb#ch0000018?line=0'>1</a>\u001b[0m new_model \u001b[39m=\u001b[39m model\u001b[39m.\u001b[39;49mfit(X_train,y_train)\n",
      "File \u001b[1;32m~\\.virtualenvs\\Hyundai-AJNGoK9j\\lib\\site-packages\\catboost\\core.py:5351\u001b[0m, in \u001b[0;36mCatBoostRegressor.fit\u001b[1;34m(self, X, y, cat_features, sample_weight, baseline, use_best_model, eval_set, verbose, logging_level, plot, column_description, verbose_eval, metric_period, silent, early_stopping_rounds, save_snapshot, snapshot_file, snapshot_interval, init_model, callbacks, log_cout, log_cerr)\u001b[0m\n\u001b[0;32m   <a href='file:///~/.virtualenvs/Hyundai-AJNGoK9j/lib/site-packages/catboost/core.py?line=5347'>5348</a>\u001b[0m \u001b[39mif\u001b[39;00m \u001b[39m'\u001b[39m\u001b[39mloss_function\u001b[39m\u001b[39m'\u001b[39m \u001b[39min\u001b[39;00m params:\n\u001b[0;32m   <a href='file:///~/.virtualenvs/Hyundai-AJNGoK9j/lib/site-packages/catboost/core.py?line=5348'>5349</a>\u001b[0m     CatBoostRegressor\u001b[39m.\u001b[39m_check_is_compatible_loss(params[\u001b[39m'\u001b[39m\u001b[39mloss_function\u001b[39m\u001b[39m'\u001b[39m])\n\u001b[1;32m-> <a href='file:///~/.virtualenvs/Hyundai-AJNGoK9j/lib/site-packages/catboost/core.py?line=5350'>5351</a>\u001b[0m \u001b[39mreturn\u001b[39;00m \u001b[39mself\u001b[39;49m\u001b[39m.\u001b[39;49m_fit(X, y, cat_features, \u001b[39mNone\u001b[39;49;00m, \u001b[39mNone\u001b[39;49;00m, \u001b[39mNone\u001b[39;49;00m, sample_weight, \u001b[39mNone\u001b[39;49;00m, \u001b[39mNone\u001b[39;49;00m, \u001b[39mNone\u001b[39;49;00m, \u001b[39mNone\u001b[39;49;00m, baseline,\n\u001b[0;32m   <a href='file:///~/.virtualenvs/Hyundai-AJNGoK9j/lib/site-packages/catboost/core.py?line=5351'>5352</a>\u001b[0m                  use_best_model, eval_set, verbose, logging_level, plot, column_description,\n\u001b[0;32m   <a href='file:///~/.virtualenvs/Hyundai-AJNGoK9j/lib/site-packages/catboost/core.py?line=5352'>5353</a>\u001b[0m                  verbose_eval, metric_period, silent, early_stopping_rounds,\n\u001b[0;32m   <a href='file:///~/.virtualenvs/Hyundai-AJNGoK9j/lib/site-packages/catboost/core.py?line=5353'>5354</a>\u001b[0m                  save_snapshot, snapshot_file, snapshot_interval, init_model, callbacks, log_cout, log_cerr)\n",
      "File \u001b[1;32m~\\.virtualenvs\\Hyundai-AJNGoK9j\\lib\\site-packages\\catboost\\core.py:2089\u001b[0m, in \u001b[0;36mCatBoost._fit\u001b[1;34m(self, X, y, cat_features, text_features, embedding_features, pairs, sample_weight, group_id, group_weight, subgroup_id, pairs_weight, baseline, use_best_model, eval_set, verbose, logging_level, plot, column_description, verbose_eval, metric_period, silent, early_stopping_rounds, save_snapshot, snapshot_file, snapshot_interval, init_model, callbacks, log_cout, log_cerr)\u001b[0m\n\u001b[0;32m   <a href='file:///~/.virtualenvs/Hyundai-AJNGoK9j/lib/site-packages/catboost/core.py?line=2084'>2085</a>\u001b[0m allow_clear_pool \u001b[39m=\u001b[39m train_params[\u001b[39m\"\u001b[39m\u001b[39mallow_clear_pool\u001b[39m\u001b[39m\"\u001b[39m]\n\u001b[0;32m   <a href='file:///~/.virtualenvs/Hyundai-AJNGoK9j/lib/site-packages/catboost/core.py?line=2086'>2087</a>\u001b[0m \u001b[39mwith\u001b[39;00m log_fixup(log_cout, log_cerr), \\\n\u001b[0;32m   <a href='file:///~/.virtualenvs/Hyundai-AJNGoK9j/lib/site-packages/catboost/core.py?line=2087'>2088</a>\u001b[0m     plot_wrapper(plot, [_get_train_dir(\u001b[39mself\u001b[39m\u001b[39m.\u001b[39mget_params())]):\n\u001b[1;32m-> <a href='file:///~/.virtualenvs/Hyundai-AJNGoK9j/lib/site-packages/catboost/core.py?line=2088'>2089</a>\u001b[0m     \u001b[39mself\u001b[39;49m\u001b[39m.\u001b[39;49m_train(\n\u001b[0;32m   <a href='file:///~/.virtualenvs/Hyundai-AJNGoK9j/lib/site-packages/catboost/core.py?line=2089'>2090</a>\u001b[0m         train_pool,\n\u001b[0;32m   <a href='file:///~/.virtualenvs/Hyundai-AJNGoK9j/lib/site-packages/catboost/core.py?line=2090'>2091</a>\u001b[0m         train_params[\u001b[39m\"\u001b[39;49m\u001b[39meval_sets\u001b[39;49m\u001b[39m\"\u001b[39;49m],\n\u001b[0;32m   <a href='file:///~/.virtualenvs/Hyundai-AJNGoK9j/lib/site-packages/catboost/core.py?line=2091'>2092</a>\u001b[0m         params,\n\u001b[0;32m   <a href='file:///~/.virtualenvs/Hyundai-AJNGoK9j/lib/site-packages/catboost/core.py?line=2092'>2093</a>\u001b[0m         allow_clear_pool,\n\u001b[0;32m   <a href='file:///~/.virtualenvs/Hyundai-AJNGoK9j/lib/site-packages/catboost/core.py?line=2093'>2094</a>\u001b[0m         train_params[\u001b[39m\"\u001b[39;49m\u001b[39minit_model\u001b[39;49m\u001b[39m\"\u001b[39;49m]\n\u001b[0;32m   <a href='file:///~/.virtualenvs/Hyundai-AJNGoK9j/lib/site-packages/catboost/core.py?line=2094'>2095</a>\u001b[0m     )\n\u001b[0;32m   <a href='file:///~/.virtualenvs/Hyundai-AJNGoK9j/lib/site-packages/catboost/core.py?line=2096'>2097</a>\u001b[0m \u001b[39m# Have property feature_importance possibly set\u001b[39;00m\n\u001b[0;32m   <a href='file:///~/.virtualenvs/Hyundai-AJNGoK9j/lib/site-packages/catboost/core.py?line=2097'>2098</a>\u001b[0m loss \u001b[39m=\u001b[39m \u001b[39mself\u001b[39m\u001b[39m.\u001b[39m_object\u001b[39m.\u001b[39m_get_loss_function_name()\n",
      "File \u001b[1;32m~\\.virtualenvs\\Hyundai-AJNGoK9j\\lib\\site-packages\\catboost\\core.py:1516\u001b[0m, in \u001b[0;36m_CatBoostBase._train\u001b[1;34m(self, train_pool, test_pool, params, allow_clear_pool, init_model)\u001b[0m\n\u001b[0;32m   <a href='file:///~/.virtualenvs/Hyundai-AJNGoK9j/lib/site-packages/catboost/core.py?line=1514'>1515</a>\u001b[0m \u001b[39mdef\u001b[39;00m \u001b[39m_train\u001b[39m(\u001b[39mself\u001b[39m, train_pool, test_pool, params, allow_clear_pool, init_model):\n\u001b[1;32m-> <a href='file:///~/.virtualenvs/Hyundai-AJNGoK9j/lib/site-packages/catboost/core.py?line=1515'>1516</a>\u001b[0m     \u001b[39mself\u001b[39;49m\u001b[39m.\u001b[39;49m_object\u001b[39m.\u001b[39;49m_train(train_pool, test_pool, params, allow_clear_pool, init_model\u001b[39m.\u001b[39;49m_object \u001b[39mif\u001b[39;49;00m init_model \u001b[39melse\u001b[39;49;00m \u001b[39mNone\u001b[39;49;00m)\n\u001b[0;32m   <a href='file:///~/.virtualenvs/Hyundai-AJNGoK9j/lib/site-packages/catboost/core.py?line=1516'>1517</a>\u001b[0m     \u001b[39mself\u001b[39m\u001b[39m.\u001b[39m_set_trained_model_attributes()\n",
      "File \u001b[1;32m_catboost.pyx:4402\u001b[0m, in \u001b[0;36m_catboost._CatBoost._train\u001b[1;34m()\u001b[0m\n",
      "File \u001b[1;32m_catboost.pyx:4451\u001b[0m, in \u001b[0;36m_catboost._CatBoost._train\u001b[1;34m()\u001b[0m\n",
      "\u001b[1;31mCatBoostError\u001b[0m: C:/Program Files (x86)/Go Agent/pipelines/BuildMaster/catboost.git/catboost/cuda/cuda_lib/cuda_base.h:281: CUDA error 35: CUDA driver version is insufficient for CUDA runtime version"
     ]
    }
   ],
   "source": [
    "new_model = model.fit(X_train,y_train)"
   ]
  },
  {
   "cell_type": "code",
   "execution_count": null,
   "metadata": {},
   "outputs": [],
   "source": []
  },
  {
   "cell_type": "code",
   "execution_count": null,
   "metadata": {},
   "outputs": [],
   "source": []
  },
  {
   "cell_type": "code",
   "execution_count": null,
   "metadata": {},
   "outputs": [],
   "source": [
    "X_train = "
   ]
  },
  {
   "cell_type": "code",
   "execution_count": null,
   "metadata": {},
   "outputs": [],
   "source": []
  },
  {
   "cell_type": "code",
   "execution_count": null,
   "metadata": {},
   "outputs": [],
   "source": []
  }
 ],
 "metadata": {
  "interpreter": {
   "hash": "6c7cfd1ec5debd062e332283f841e7c4082b242a5cd5873f524dfe2a10f21440"
  },
  "kernelspec": {
   "display_name": "Python 3.9.10 ('Hyundai-AJNGoK9j')",
   "language": "python",
   "name": "python3"
  },
  "language_info": {
   "codemirror_mode": {
    "name": "ipython",
    "version": 3
   },
   "file_extension": ".py",
   "mimetype": "text/x-python",
   "name": "python",
   "nbconvert_exporter": "python",
   "pygments_lexer": "ipython3",
   "version": "3.9.10"
  },
  "orig_nbformat": 4
 },
 "nbformat": 4,
 "nbformat_minor": 2
}
