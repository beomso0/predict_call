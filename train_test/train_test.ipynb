{
 "cells": [
  {
   "cell_type": "code",
   "execution_count": 2,
   "metadata": {},
   "outputs": [],
   "source": [
    "import lightgbm as lgb\n",
    "from sklearn.preprocessing import MinMaxScaler, StandardScaler\n",
    "from sklearn.model_selection import train_test_split\n",
    "import pandas as pd\n",
    "import numpy as np\n",
    "import matplotlib.pyplot as plt \n",
    "import seaborn as sns \n",
    "import joblib\n",
    "from sklearn.metrics import *\n",
    "import math\n",
    "pd.set_option('display.max_columns',None)\n",
    "from scipy import stats as scs\n",
    "def show_hist(values):\n",
    "    plt.figure(1, figsize=(10, 6))\n",
    "    sns.distplot(values)\n",
    "    plt.show()\n",
    "    \n",
    "    print('skew:', scs.skew(values))\n",
    "    print('kurtosis:', scs.kurtosis(values))"
   ]
  },
  {
   "cell_type": "code",
   "execution_count": 3,
   "metadata": {},
   "outputs": [],
   "source": [
    "X_train = joblib.load('X_train')\n",
    "X_test = joblib.load('X_test')"
   ]
  },
  {
   "cell_type": "code",
   "execution_count": null,
   "metadata": {},
   "outputs": [],
   "source": [
    "# n_estimators는 500으로, random state는 예제 수행 시마다 동일 예측 결과를 위해 설정. \n",
    "lgb_reg = lgb.LGBMRegressor(\n",
    "  n_estimators=1000, \n",
    "  random_state=156,\n",
    "  colsample_bytree=0.8,\n",
    "  min_child_weight= 2, \n",
    "  max_depth=-1,\n",
    "  learning_rate=0.01,\n",
    "  num_leaves=40,\n",
    "  # categorical_feature = ['weekday', 'brand1', 'brand2', 'brand3', 'mid1', 'mid2', 'mid3']\n",
    ")\n",
    "'''\n",
    "{'colsample_bytree': 0.75,\n",
    " 'learning_rate': 0.01,\n",
    " 'min_child_weight': 5,\n",
    " 'n_estimators': 3000,\n",
    " 'num_leaves': 70}\n",
    "'''\n",
    "# 성능 평가 지표를 auc로, 조기 중단 파라미터는 100으로 설정하고 학습 수행. \n",
    "lgb_reg.fit(X_train, y_train, eval_metric=\"rmse\", eval_set=[(X_train, y_train), (X_test, y_test)],verbose=0)"
   ]
  }
 ],
 "metadata": {
  "interpreter": {
   "hash": "5036854abd0e3002c9eb87fb959f603582c0139130785567701341c1afbecc0a"
  },
  "kernelspec": {
   "display_name": "Python 3.9.10 ('deploy_st-PF8VvhC-')",
   "language": "python",
   "name": "python3"
  },
  "language_info": {
   "codemirror_mode": {
    "name": "ipython",
    "version": 3
   },
   "file_extension": ".py",
   "mimetype": "text/x-python",
   "name": "python",
   "nbconvert_exporter": "python",
   "pygments_lexer": "ipython3",
   "version": "3.9.10"
  },
  "orig_nbformat": 4
 },
 "nbformat": 4,
 "nbformat_minor": 2
}
