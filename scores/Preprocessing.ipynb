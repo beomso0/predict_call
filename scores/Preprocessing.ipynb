{
 "cells": [
  {
   "cell_type": "code",
   "execution_count": 1,
   "id": "5158b3c6",
   "metadata": {},
   "outputs": [],
   "source": [
    "import numpy as np\n",
    "import pandas as pd"
   ]
  },
  {
   "cell_type": "code",
   "execution_count": 5,
   "id": "4612bebb",
   "metadata": {},
   "outputs": [],
   "source": [
    "import warnings\n",
    "warnings.filterwarnings(action='ignore') # default"
   ]
  },
  {
   "cell_type": "code",
   "execution_count": 2,
   "id": "9ec96dd6",
   "metadata": {},
   "outputs": [],
   "source": [
    "mid_cat_score = pd.read_pickle('mid_cat_score.pkl')\n",
    "brand_score = pd.read_pickle('brand_score.pkl')\n",
    "limit_score = pd.read_pickle('limit_score.pkl')\n",
    "\n",
    "score_lists = [mid_cat_score,brand_score,limit_score]"
   ]
  },
  {
   "cell_type": "code",
   "execution_count": 4,
   "id": "b46a407e",
   "metadata": {},
   "outputs": [],
   "source": [
    "def preprocessing(input_df,score_lists,cat_encoder):\n",
    "    df = input_df\n",
    "    \n",
    "    df.columns = [col[:-6] for col in df.columns]\n",
    "    df = df.replace({True:1, False:0})\n",
    "    df['pgm'] = df['pgm'].astype('str')\n",
    "    df['showhost'] = df['showhost'].apply(lambda x: str(x)[2:-2].replace(\"'\",''))\n",
    "    \n",
    "    df['year'] = df['date'].apply(lambda x: x.year)\n",
    "    df['month'] = df['date'].apply(lambda x: x.month)\n",
    "    df['day'] = df['date'].apply(lambda x: x.day)\n",
    "    df['weekday'] = df['date'].apply(lambda x: x.weekday())\n",
    "\n",
    "    df['month_sin'] = np.sin(2*np.pi*df['month']/12)\n",
    "    df['month_cos'] = np.cos(2*np.pi*df['month']/12)\n",
    "    df['weekday_sin'] = np.sin(2*np.pi*df['weekday']/7)\n",
    "    df['weekday_cos'] = np.cos(2*np.pi*df['weekday']/7)\n",
    "    df['start_time_sin'] = np.sin(2*np.pi*df['start_time']/24)\n",
    "    df['start_time_cos'] = np.cos(2*np.pi*df['start_time']/24)\n",
    "    df['end_time_sin'] = np.sin(2*np.pi*df['end_time']/24)\n",
    "    df['end_time_cos'] = np.cos(2*np.pi*df['end_time']/24)\n",
    "    \n",
    "    df['price_min'] = df['price'].apply(lambda x: min(x))\n",
    "    df['price_max'] = df['price'].apply(lambda x: max(x))\n",
    "    df['price_mean'] = df['price'].apply(lambda x: np.mean(x))\n",
    "    \n",
    "    \n",
    "    def make_top_col(brand_list,score_df,col_name):\n",
    "        temp = score_df\n",
    "        for brand in set(brand_list):\n",
    "            if brand not in temp[col_name]:\n",
    "                new = pd.DataFrame([[brand,0,0,score_df[score_df.columns[-1]].mean()]], columns=score_df.columns)\n",
    "                temp = temp.append(new,ignore_index=True)\n",
    "            else:\n",
    "                continue\n",
    "        \n",
    "        temp = temp.sort_values(by=[temp.columns[-1],'방송등장횟수'],ascending=False).reset_index(drop=True)\n",
    "        temp2 = list(temp[temp[col_name].isin(list(set(brand_list)))][col_name])\n",
    "        return temp2\n",
    "    \n",
    "    \n",
    "    df['top_midcat'] = df['midcat'].apply(lambda a: make_top_col(a,score_lists[0],'상품중분류명'))\n",
    "    df['midcat1'] = df['top_midcat'].apply(lambda a: a[0])\n",
    "    df['midcat2'] = df['top_midcat'].apply(lambda a: a[1] if len(a)>=2 else a[0])\n",
    "    df['midcat3'] = df['top_midcat'].apply(lambda a: a[2] if len(a)>=3 else a[0])\n",
    "    df['top_brand'] = df['brand'].apply(lambda a: make_top_col(a,score_lists[1],'브랜드명'))\n",
    "    df['brand1'] = df['top_brand'].apply(lambda a: a[0])\n",
    "    df['brand2'] = df['top_brand'].apply(lambda a: a[1] if len(a)>=2 else a[0])\n",
    "    df['brand3'] = df['top_brand'].apply(lambda a: a[2] if len(a)>=3 else a[0])\n",
    "    df['top_expression'] = df['expression'].apply(lambda a: make_top_col(a,score_lists[2],'한정표현구분'))\n",
    "    df['expression1'] = df['top_expression'].apply(lambda a: a[0])\n",
    "    df['expression2'] = df['top_expression'].apply(lambda a: a[1] if len(a)>=2 else a[0])\n",
    "    df['expression3'] = df['top_expression'].apply(lambda a: a[2] if len(a)>=3 else a[0])\n",
    "    \n",
    "    drop_cols = ['date','year','month','weekday','start_time','end_time',\n",
    "                 'midcat','brand','expression','price','top_midcat','top_brand','top_expression']\n",
    "    df = df.drop(drop_cols, axis=1)\n",
    "    \n",
    "    df = cat_encoder.transform(df)\n",
    "    \n",
    "    return df"
   ]
  },
  {
   "cell_type": "code",
   "execution_count": null,
   "id": "e25de3d8",
   "metadata": {},
   "outputs": [],
   "source": []
  }
 ],
 "metadata": {
  "kernelspec": {
   "display_name": "Python 3 (ipykernel)",
   "language": "python",
   "name": "python3"
  },
  "language_info": {
   "codemirror_mode": {
    "name": "ipython",
    "version": 3
   },
   "file_extension": ".py",
   "mimetype": "text/x-python",
   "name": "python",
   "nbconvert_exporter": "python",
   "pygments_lexer": "ipython3",
   "version": "3.9.10"
  }
 },
 "nbformat": 4,
 "nbformat_minor": 5
}
