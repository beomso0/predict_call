{
 "cells": [
  {
   "cell_type": "code",
   "execution_count": 2,
   "metadata": {},
   "outputs": [],
   "source": [
    "from pycaret.regression import *\n",
    "import pandas\n",
    "import joblib"
   ]
  },
  {
   "cell_type": "code",
   "execution_count": 3,
   "metadata": {},
   "outputs": [],
   "source": [
    "model = joblib.load('0214_final_reg_saved.pkl')\n",
    "data = joblib.load('0212_mean_set_no1.pkl')\n",
    "encoder = joblib.load('0214_encoder.pkl')"
   ]
  },
  {
   "cell_type": "code",
   "execution_count": 20,
   "metadata": {},
   "outputs": [],
   "source": [
    "val = data.iloc[:10]\n",
    "X_val = val.drop('approx_in_show_call',axis=1)\n",
    "y_val = val['approx_in_show_call']"
   ]
  },
  {
   "cell_type": "code",
   "execution_count": 8,
   "metadata": {},
   "outputs": [
    {
     "data": {
      "text/html": [
       "<div>\n",
       "<style scoped>\n",
       "    .dataframe tbody tr th:only-of-type {\n",
       "        vertical-align: middle;\n",
       "    }\n",
       "\n",
       "    .dataframe tbody tr th {\n",
       "        vertical-align: top;\n",
       "    }\n",
       "\n",
       "    .dataframe thead th {\n",
       "        text-align: right;\n",
       "    }\n",
       "</style>\n",
       "<table border=\"1\" class=\"dataframe\">\n",
       "  <thead>\n",
       "    <tr style=\"text-align: right;\">\n",
       "      <th></th>\n",
       "      <th>방송편성번호</th>\n",
       "      <th>year</th>\n",
       "      <th>month</th>\n",
       "      <th>day</th>\n",
       "      <th>hour</th>\n",
       "      <th>상품구분</th>\n",
       "      <th>쇼호스트명</th>\n",
       "      <th>날씨</th>\n",
       "      <th>기온</th>\n",
       "      <th>강수량</th>\n",
       "      <th>weekday</th>\n",
       "      <th>duration</th>\n",
       "      <th>판매가평균</th>\n",
       "      <th>midcat_order_score_mean</th>\n",
       "      <th>midcat_order_score_max</th>\n",
       "      <th>prod_num</th>\n",
       "      <th>한정표현_num</th>\n",
       "      <th>주말/공휴일</th>\n",
       "      <th>sh_num</th>\n",
       "      <th>sh_grade</th>\n",
       "      <th>sh_grade_num</th>\n",
       "      <th>소비지수</th>\n",
       "      <th>month_sin</th>\n",
       "      <th>month_cos</th>\n",
       "      <th>hour_sin</th>\n",
       "      <th>hour_cos</th>\n",
       "      <th>day_sin</th>\n",
       "      <th>day_cos</th>\n",
       "      <th>브랜드명_1</th>\n",
       "      <th>브랜드명_2</th>\n",
       "      <th>브랜드명_3</th>\n",
       "      <th>가격_1</th>\n",
       "      <th>가격_2</th>\n",
       "      <th>가격_3</th>\n",
       "      <th>br_score_1</th>\n",
       "      <th>br_score_2</th>\n",
       "      <th>br_score_3</th>\n",
       "    </tr>\n",
       "  </thead>\n",
       "  <tbody>\n",
       "    <tr>\n",
       "      <th>0</th>\n",
       "      <td>202001015001</td>\n",
       "      <td>2020.0</td>\n",
       "      <td>1</td>\n",
       "      <td>1</td>\n",
       "      <td>6</td>\n",
       "      <td>DATA</td>\n",
       "      <td>[엄지혜, 이경은]</td>\n",
       "      <td>구름 많음</td>\n",
       "      <td>-4.0</td>\n",
       "      <td>0.0</td>\n",
       "      <td>수</td>\n",
       "      <td>40</td>\n",
       "      <td>99000.0</td>\n",
       "      <td>2.0</td>\n",
       "      <td>2</td>\n",
       "      <td>1</td>\n",
       "      <td>0</td>\n",
       "      <td>0</td>\n",
       "      <td>2.0</td>\n",
       "      <td>D</td>\n",
       "      <td>1.0</td>\n",
       "      <td>104.8</td>\n",
       "      <td>0.5</td>\n",
       "      <td>0.866025</td>\n",
       "      <td>1.0</td>\n",
       "      <td>6.123234e-17</td>\n",
       "      <td>0.201299</td>\n",
       "      <td>0.97953</td>\n",
       "      <td>소담</td>\n",
       "      <td>소담</td>\n",
       "      <td>소담</td>\n",
       "      <td>99000</td>\n",
       "      <td>99000</td>\n",
       "      <td>99000</td>\n",
       "      <td>3.0</td>\n",
       "      <td>3.0</td>\n",
       "      <td>3.0</td>\n",
       "    </tr>\n",
       "  </tbody>\n",
       "</table>\n",
       "</div>"
      ],
      "text/plain": [
       "         방송편성번호    year  month  day  hour  상품구분       쇼호스트명     날씨   기온  강수량  \\\n",
       "0  202001015001  2020.0      1    1     6  DATA  [엄지혜, 이경은]  구름 많음 -4.0  0.0   \n",
       "\n",
       "  weekday  duration    판매가평균  midcat_order_score_mean  midcat_order_score_max  \\\n",
       "0       수        40  99000.0                      2.0                       2   \n",
       "\n",
       "   prod_num  한정표현_num  주말/공휴일  sh_num sh_grade  sh_grade_num   소비지수  \\\n",
       "0         1         0       0     2.0        D           1.0  104.8   \n",
       "\n",
       "   month_sin  month_cos  hour_sin      hour_cos   day_sin  day_cos 브랜드명_1  \\\n",
       "0        0.5   0.866025       1.0  6.123234e-17  0.201299  0.97953     소담   \n",
       "\n",
       "  브랜드명_2 브랜드명_3   가격_1   가격_2   가격_3  br_score_1  br_score_2  br_score_3  \n",
       "0     소담     소담  99000  99000  99000         3.0         3.0         3.0  "
      ]
     },
     "execution_count": 8,
     "metadata": {},
     "output_type": "execute_result"
    }
   ],
   "source": [
    "X_val.head(1)"
   ]
  },
  {
   "cell_type": "code",
   "execution_count": 11,
   "metadata": {},
   "outputs": [
    {
     "name": "stdout",
     "output_type": "stream",
     "text": [
      "<class 'pandas.core.frame.DataFrame'>\n",
      "Int64Index: 10 entries, 0 to 9\n",
      "Data columns (total 37 columns):\n",
      " #   Column                   Non-Null Count  Dtype  \n",
      "---  ------                   --------------  -----  \n",
      " 0   방송편성번호                   10 non-null     int64  \n",
      " 1   year                     10 non-null     float64\n",
      " 2   month                    10 non-null     int64  \n",
      " 3   day                      10 non-null     int64  \n",
      " 4   hour                     10 non-null     int64  \n",
      " 5   상품구분                     10 non-null     object \n",
      " 6   쇼호스트명                    10 non-null     object \n",
      " 7   날씨                       10 non-null     object \n",
      " 8   기온                       10 non-null     float16\n",
      " 9   강수량                      10 non-null     float16\n",
      " 10  weekday                  10 non-null     object \n",
      " 11  duration                 10 non-null     int64  \n",
      " 12  판매가평균                    10 non-null     float64\n",
      " 13  midcat_order_score_mean  10 non-null     float64\n",
      " 14  midcat_order_score_max   10 non-null     int64  \n",
      " 15  prod_num                 10 non-null     int64  \n",
      " 16  한정표현_num                 10 non-null     int64  \n",
      " 17  주말/공휴일                   10 non-null     int64  \n",
      " 18  sh_num                   10 non-null     float64\n",
      " 19  sh_grade                 10 non-null     object \n",
      " 20  sh_grade_num             10 non-null     float64\n",
      " 21  소비지수                     10 non-null     float64\n",
      " 22  month_sin                10 non-null     float64\n",
      " 23  month_cos                10 non-null     float64\n",
      " 24  hour_sin                 10 non-null     float64\n",
      " 25  hour_cos                 10 non-null     float64\n",
      " 26  day_sin                  10 non-null     float64\n",
      " 27  day_cos                  10 non-null     float64\n",
      " 28  브랜드명_1                   10 non-null     object \n",
      " 29  브랜드명_2                   10 non-null     object \n",
      " 30  브랜드명_3                   10 non-null     object \n",
      " 31  가격_1                     10 non-null     object \n",
      " 32  가격_2                     10 non-null     object \n",
      " 33  가격_3                     10 non-null     object \n",
      " 34  br_score_1               10 non-null     float64\n",
      " 35  br_score_2               10 non-null     float64\n",
      " 36  br_score_3               10 non-null     float64\n",
      "dtypes: float16(2), float64(15), int64(9), object(11)\n",
      "memory usage: 2.9+ KB\n"
     ]
    }
   ],
   "source": [
    "X_val.info()"
   ]
  },
  {
   "cell_type": "code",
   "execution_count": 21,
   "metadata": {},
   "outputs": [
    {
     "ename": "KeyError",
     "evalue": "\"['PGM명', '방송시작일시'] not in index\"",
     "output_type": "error",
     "traceback": [
      "\u001b[0;31m---------------------------------------------------------------------------\u001b[0m",
      "\u001b[0;31mKeyError\u001b[0m                                  Traceback (most recent call last)",
      "\u001b[1;32m/Users/beomso0/Documents/GH/Hyundai/deploy_st/jh_caret/test.ipynb Cell 6'\u001b[0m in \u001b[0;36m<module>\u001b[0;34m\u001b[0m\n\u001b[1;32m      <a href='vscode-notebook-cell:/Users/beomso0/Documents/GH/Hyundai/deploy_st/jh_caret/test.ipynb#ch0000011?line=0'>1</a>\u001b[0m remain_cols \u001b[39m=\u001b[39m [\u001b[39m'\u001b[39m\u001b[39myear\u001b[39m\u001b[39m'\u001b[39m, \u001b[39m'\u001b[39m\u001b[39mmonth\u001b[39m\u001b[39m'\u001b[39m, \u001b[39m'\u001b[39m\u001b[39mday\u001b[39m\u001b[39m'\u001b[39m, \u001b[39m'\u001b[39m\u001b[39mhour\u001b[39m\u001b[39m'\u001b[39m, \u001b[39m'\u001b[39m\u001b[39mPGM명\u001b[39m\u001b[39m'\u001b[39m, \u001b[39m'\u001b[39m\u001b[39m상품구분\u001b[39m\u001b[39m'\u001b[39m, \u001b[39m'\u001b[39m\u001b[39m날씨\u001b[39m\u001b[39m'\u001b[39m, \u001b[39m'\u001b[39m\u001b[39m기온\u001b[39m\u001b[39m'\u001b[39m, \u001b[39m'\u001b[39m\u001b[39m강수량\u001b[39m\u001b[39m'\u001b[39m,\n\u001b[1;32m      <a href='vscode-notebook-cell:/Users/beomso0/Documents/GH/Hyundai/deploy_st/jh_caret/test.ipynb#ch0000011?line=1'>2</a>\u001b[0m        \u001b[39m'\u001b[39m\u001b[39m방송시작일시\u001b[39m\u001b[39m'\u001b[39m, \u001b[39m'\u001b[39m\u001b[39mweekday\u001b[39m\u001b[39m'\u001b[39m, \u001b[39m'\u001b[39m\u001b[39mduration\u001b[39m\u001b[39m'\u001b[39m, \u001b[39m'\u001b[39m\u001b[39mmidcat_order_score_mean\u001b[39m\u001b[39m'\u001b[39m,\n\u001b[1;32m      <a href='vscode-notebook-cell:/Users/beomso0/Documents/GH/Hyundai/deploy_st/jh_caret/test.ipynb#ch0000011?line=2'>3</a>\u001b[0m        \u001b[39m'\u001b[39m\u001b[39mmidcat_order_score_max\u001b[39m\u001b[39m'\u001b[39m, \u001b[39m'\u001b[39m\u001b[39mprod_num\u001b[39m\u001b[39m'\u001b[39m, \u001b[39m'\u001b[39m\u001b[39m한정표현_num\u001b[39m\u001b[39m'\u001b[39m, \u001b[39m'\u001b[39m\u001b[39m주말/공휴일\u001b[39m\u001b[39m'\u001b[39m, \u001b[39m'\u001b[39m\u001b[39msh_num\u001b[39m\u001b[39m'\u001b[39m,\n\u001b[1;32m      <a href='vscode-notebook-cell:/Users/beomso0/Documents/GH/Hyundai/deploy_st/jh_caret/test.ipynb#ch0000011?line=3'>4</a>\u001b[0m        \u001b[39m'\u001b[39m\u001b[39msh_grade\u001b[39m\u001b[39m'\u001b[39m, \u001b[39m'\u001b[39m\u001b[39msh_grade_num\u001b[39m\u001b[39m'\u001b[39m, \u001b[39m'\u001b[39m\u001b[39mmonth_sin\u001b[39m\u001b[39m'\u001b[39m, \u001b[39m'\u001b[39m\u001b[39mmonth_cos\u001b[39m\u001b[39m'\u001b[39m, \u001b[39m'\u001b[39m\u001b[39mhour_sin\u001b[39m\u001b[39m'\u001b[39m,\n\u001b[1;32m      <a href='vscode-notebook-cell:/Users/beomso0/Documents/GH/Hyundai/deploy_st/jh_caret/test.ipynb#ch0000011?line=4'>5</a>\u001b[0m        \u001b[39m'\u001b[39m\u001b[39mhour_cos\u001b[39m\u001b[39m'\u001b[39m, \u001b[39m'\u001b[39m\u001b[39mday_sin\u001b[39m\u001b[39m'\u001b[39m, \u001b[39m'\u001b[39m\u001b[39mday_cos\u001b[39m\u001b[39m'\u001b[39m, \u001b[39m'\u001b[39m\u001b[39m브랜드명_1\u001b[39m\u001b[39m'\u001b[39m, \u001b[39m'\u001b[39m\u001b[39m브랜드명_2\u001b[39m\u001b[39m'\u001b[39m, \u001b[39m'\u001b[39m\u001b[39m브랜드명_3\u001b[39m\u001b[39m'\u001b[39m, \u001b[39m'\u001b[39m\u001b[39m가격_1\u001b[39m\u001b[39m'\u001b[39m,\n\u001b[1;32m      <a href='vscode-notebook-cell:/Users/beomso0/Documents/GH/Hyundai/deploy_st/jh_caret/test.ipynb#ch0000011?line=5'>6</a>\u001b[0m        \u001b[39m'\u001b[39m\u001b[39m가격_2\u001b[39m\u001b[39m'\u001b[39m, \u001b[39m'\u001b[39m\u001b[39m가격_3\u001b[39m\u001b[39m'\u001b[39m]\n\u001b[0;32m----> <a href='vscode-notebook-cell:/Users/beomso0/Documents/GH/Hyundai/deploy_st/jh_caret/test.ipynb#ch0000011?line=6'>7</a>\u001b[0m X_val \u001b[39m=\u001b[39m X_val[remain_cols]\n",
      "File \u001b[0;32m~/miniforge3/envs/caret_env/lib/python3.8/site-packages/pandas/core/frame.py:3464\u001b[0m, in \u001b[0;36mDataFrame.__getitem__\u001b[0;34m(self, key)\u001b[0m\n\u001b[1;32m   <a href='file:///~/miniforge3/envs/caret_env/lib/python3.8/site-packages/pandas/core/frame.py?line=3461'>3462</a>\u001b[0m     \u001b[39mif\u001b[39;00m is_iterator(key):\n\u001b[1;32m   <a href='file:///~/miniforge3/envs/caret_env/lib/python3.8/site-packages/pandas/core/frame.py?line=3462'>3463</a>\u001b[0m         key \u001b[39m=\u001b[39m \u001b[39mlist\u001b[39m(key)\n\u001b[0;32m-> <a href='file:///~/miniforge3/envs/caret_env/lib/python3.8/site-packages/pandas/core/frame.py?line=3463'>3464</a>\u001b[0m     indexer \u001b[39m=\u001b[39m \u001b[39mself\u001b[39;49m\u001b[39m.\u001b[39;49mloc\u001b[39m.\u001b[39;49m_get_listlike_indexer(key, axis\u001b[39m=\u001b[39;49m\u001b[39m1\u001b[39;49m)[\u001b[39m1\u001b[39m]\n\u001b[1;32m   <a href='file:///~/miniforge3/envs/caret_env/lib/python3.8/site-packages/pandas/core/frame.py?line=3465'>3466</a>\u001b[0m \u001b[39m# take() does not accept boolean indexers\u001b[39;00m\n\u001b[1;32m   <a href='file:///~/miniforge3/envs/caret_env/lib/python3.8/site-packages/pandas/core/frame.py?line=3466'>3467</a>\u001b[0m \u001b[39mif\u001b[39;00m \u001b[39mgetattr\u001b[39m(indexer, \u001b[39m\"\u001b[39m\u001b[39mdtype\u001b[39m\u001b[39m\"\u001b[39m, \u001b[39mNone\u001b[39;00m) \u001b[39m==\u001b[39m \u001b[39mbool\u001b[39m:\n",
      "File \u001b[0;32m~/miniforge3/envs/caret_env/lib/python3.8/site-packages/pandas/core/indexing.py:1314\u001b[0m, in \u001b[0;36m_LocIndexer._get_listlike_indexer\u001b[0;34m(self, key, axis)\u001b[0m\n\u001b[1;32m   <a href='file:///~/miniforge3/envs/caret_env/lib/python3.8/site-packages/pandas/core/indexing.py?line=1310'>1311</a>\u001b[0m \u001b[39melse\u001b[39;00m:\n\u001b[1;32m   <a href='file:///~/miniforge3/envs/caret_env/lib/python3.8/site-packages/pandas/core/indexing.py?line=1311'>1312</a>\u001b[0m     keyarr, indexer, new_indexer \u001b[39m=\u001b[39m ax\u001b[39m.\u001b[39m_reindex_non_unique(keyarr)\n\u001b[0;32m-> <a href='file:///~/miniforge3/envs/caret_env/lib/python3.8/site-packages/pandas/core/indexing.py?line=1313'>1314</a>\u001b[0m \u001b[39mself\u001b[39;49m\u001b[39m.\u001b[39;49m_validate_read_indexer(keyarr, indexer, axis)\n\u001b[1;32m   <a href='file:///~/miniforge3/envs/caret_env/lib/python3.8/site-packages/pandas/core/indexing.py?line=1315'>1316</a>\u001b[0m \u001b[39mif\u001b[39;00m needs_i8_conversion(ax\u001b[39m.\u001b[39mdtype) \u001b[39mor\u001b[39;00m \u001b[39misinstance\u001b[39m(\n\u001b[1;32m   <a href='file:///~/miniforge3/envs/caret_env/lib/python3.8/site-packages/pandas/core/indexing.py?line=1316'>1317</a>\u001b[0m     ax, (IntervalIndex, CategoricalIndex)\n\u001b[1;32m   <a href='file:///~/miniforge3/envs/caret_env/lib/python3.8/site-packages/pandas/core/indexing.py?line=1317'>1318</a>\u001b[0m ):\n\u001b[1;32m   <a href='file:///~/miniforge3/envs/caret_env/lib/python3.8/site-packages/pandas/core/indexing.py?line=1318'>1319</a>\u001b[0m     \u001b[39m# For CategoricalIndex take instead of reindex to preserve dtype.\u001b[39;00m\n\u001b[1;32m   <a href='file:///~/miniforge3/envs/caret_env/lib/python3.8/site-packages/pandas/core/indexing.py?line=1319'>1320</a>\u001b[0m     \u001b[39m#  For IntervalIndex this is to map integers to the Intervals they match to.\u001b[39;00m\n\u001b[1;32m   <a href='file:///~/miniforge3/envs/caret_env/lib/python3.8/site-packages/pandas/core/indexing.py?line=1320'>1321</a>\u001b[0m     keyarr \u001b[39m=\u001b[39m ax\u001b[39m.\u001b[39mtake(indexer)\n",
      "File \u001b[0;32m~/miniforge3/envs/caret_env/lib/python3.8/site-packages/pandas/core/indexing.py:1377\u001b[0m, in \u001b[0;36m_LocIndexer._validate_read_indexer\u001b[0;34m(self, key, indexer, axis)\u001b[0m\n\u001b[1;32m   <a href='file:///~/miniforge3/envs/caret_env/lib/python3.8/site-packages/pandas/core/indexing.py?line=1373'>1374</a>\u001b[0m     \u001b[39mraise\u001b[39;00m \u001b[39mKeyError\u001b[39;00m(\u001b[39mf\u001b[39m\u001b[39m\"\u001b[39m\u001b[39mNone of [\u001b[39m\u001b[39m{\u001b[39;00mkey\u001b[39m}\u001b[39;00m\u001b[39m] are in the [\u001b[39m\u001b[39m{\u001b[39;00maxis_name\u001b[39m}\u001b[39;00m\u001b[39m]\u001b[39m\u001b[39m\"\u001b[39m)\n\u001b[1;32m   <a href='file:///~/miniforge3/envs/caret_env/lib/python3.8/site-packages/pandas/core/indexing.py?line=1375'>1376</a>\u001b[0m not_found \u001b[39m=\u001b[39m \u001b[39mlist\u001b[39m(ensure_index(key)[missing_mask\u001b[39m.\u001b[39mnonzero()[\u001b[39m0\u001b[39m]]\u001b[39m.\u001b[39munique())\n\u001b[0;32m-> <a href='file:///~/miniforge3/envs/caret_env/lib/python3.8/site-packages/pandas/core/indexing.py?line=1376'>1377</a>\u001b[0m \u001b[39mraise\u001b[39;00m \u001b[39mKeyError\u001b[39;00m(\u001b[39mf\u001b[39m\u001b[39m\"\u001b[39m\u001b[39m{\u001b[39;00mnot_found\u001b[39m}\u001b[39;00m\u001b[39m not in index\u001b[39m\u001b[39m\"\u001b[39m)\n",
      "\u001b[0;31mKeyError\u001b[0m: \"['PGM명', '방송시작일시'] not in index\""
     ]
    }
   ],
   "source": [
    "remain_cols = ['year', 'month', 'day', 'hour', 'PGM명', '상품구분', '날씨', '기온', '강수량',\n",
    "       '방송시작일시', 'weekday', 'duration', 'midcat_order_score_mean',\n",
    "       'midcat_order_score_max', 'prod_num', '한정표현_num', '주말/공휴일', 'sh_num',\n",
    "       'sh_grade', 'sh_grade_num', 'month_sin', 'month_cos', 'hour_sin',\n",
    "       'hour_cos', 'day_sin', 'day_cos', '브랜드명_1', '브랜드명_2', '브랜드명_3', '가격_1',\n",
    "       '가격_2', '가격_3']\n",
    "X_val = X_val[remain_cols]"
   ]
  },
  {
   "cell_type": "code",
   "execution_count": 19,
   "metadata": {},
   "outputs": [
    {
     "ename": "ValueError",
     "evalue": "Unexpected input dimension 31, expected 32",
     "output_type": "error",
     "traceback": [
      "\u001b[0;31m---------------------------------------------------------------------------\u001b[0m",
      "\u001b[0;31mValueError\u001b[0m                                Traceback (most recent call last)",
      "\u001b[1;32m/Users/beomso0/Documents/GH/Hyundai/deploy_st/jh_caret/test.ipynb Cell 7'\u001b[0m in \u001b[0;36m<module>\u001b[0;34m\u001b[0m\n\u001b[0;32m----> <a href='vscode-notebook-cell:/Users/beomso0/Documents/GH/Hyundai/deploy_st/jh_caret/test.ipynb#ch0000010?line=0'>1</a>\u001b[0m X_val \u001b[39m=\u001b[39m encoder\u001b[39m.\u001b[39;49mtransform(X_val)\n",
      "File \u001b[0;32m~/miniforge3/envs/caret_env/lib/python3.8/site-packages/category_encoders/cat_boost.py:205\u001b[0m, in \u001b[0;36mCatBoostEncoder.transform\u001b[0;34m(self, X, y, override_return_df)\u001b[0m\n\u001b[1;32m    <a href='file:///~/miniforge3/envs/caret_env/lib/python3.8/site-packages/category_encoders/cat_boost.py?line=202'>203</a>\u001b[0m \u001b[39m# then make sure that it is the right size\u001b[39;00m\n\u001b[1;32m    <a href='file:///~/miniforge3/envs/caret_env/lib/python3.8/site-packages/category_encoders/cat_boost.py?line=203'>204</a>\u001b[0m \u001b[39mif\u001b[39;00m X\u001b[39m.\u001b[39mshape[\u001b[39m1\u001b[39m] \u001b[39m!=\u001b[39m \u001b[39mself\u001b[39m\u001b[39m.\u001b[39m_dim:\n\u001b[0;32m--> <a href='file:///~/miniforge3/envs/caret_env/lib/python3.8/site-packages/category_encoders/cat_boost.py?line=204'>205</a>\u001b[0m     \u001b[39mraise\u001b[39;00m \u001b[39mValueError\u001b[39;00m(\u001b[39m'\u001b[39m\u001b[39mUnexpected input dimension \u001b[39m\u001b[39m%d\u001b[39;00m\u001b[39m, expected \u001b[39m\u001b[39m%d\u001b[39;00m\u001b[39m'\u001b[39m \u001b[39m%\u001b[39m (X\u001b[39m.\u001b[39mshape[\u001b[39m1\u001b[39m], \u001b[39mself\u001b[39m\u001b[39m.\u001b[39m_dim,))\n\u001b[1;32m    <a href='file:///~/miniforge3/envs/caret_env/lib/python3.8/site-packages/category_encoders/cat_boost.py?line=206'>207</a>\u001b[0m \u001b[39m# if we are encoding the training data, we have to check the target\u001b[39;00m\n\u001b[1;32m    <a href='file:///~/miniforge3/envs/caret_env/lib/python3.8/site-packages/category_encoders/cat_boost.py?line=207'>208</a>\u001b[0m \u001b[39mif\u001b[39;00m y \u001b[39mis\u001b[39;00m \u001b[39mnot\u001b[39;00m \u001b[39mNone\u001b[39;00m:\n",
      "\u001b[0;31mValueError\u001b[0m: Unexpected input dimension 31, expected 32"
     ]
    }
   ],
   "source": [
    "X_val = encoder.transform(X_val)"
   ]
  },
  {
   "cell_type": "code",
   "execution_count": 5,
   "metadata": {},
   "outputs": [
    {
     "ename": "ValueError",
     "evalue": "could not convert string to float: '구름 많음'",
     "output_type": "error",
     "traceback": [
      "\u001b[0;31m---------------------------------------------------------------------------\u001b[0m",
      "\u001b[0;31mValueError\u001b[0m                                Traceback (most recent call last)",
      "\u001b[1;32m/Users/beomso0/Documents/GH/Hyundai/deploy_st/jh_caret/test.ipynb Cell 4'\u001b[0m in \u001b[0;36m<module>\u001b[0;34m\u001b[0m\n\u001b[0;32m----> <a href='vscode-notebook-cell:/Users/beomso0/Documents/GH/Hyundai/deploy_st/jh_caret/test.ipynb#ch0000008?line=0'>1</a>\u001b[0m predict_model(model,X_val)\n",
      "File \u001b[0;32m~/miniforge3/envs/caret_env/lib/python3.8/site-packages/pycaret/regression.py:1759\u001b[0m, in \u001b[0;36mpredict_model\u001b[0;34m(estimator, data, drift_report, round, verbose)\u001b[0m\n\u001b[1;32m   <a href='file:///~/miniforge3/envs/caret_env/lib/python3.8/site-packages/pycaret/regression.py?line=1698'>1699</a>\u001b[0m \u001b[39mdef\u001b[39;00m \u001b[39mpredict_model\u001b[39m(\n\u001b[1;32m   <a href='file:///~/miniforge3/envs/caret_env/lib/python3.8/site-packages/pycaret/regression.py?line=1699'>1700</a>\u001b[0m     estimator,\n\u001b[1;32m   <a href='file:///~/miniforge3/envs/caret_env/lib/python3.8/site-packages/pycaret/regression.py?line=1700'>1701</a>\u001b[0m     data: Optional[pd\u001b[39m.\u001b[39mDataFrame] \u001b[39m=\u001b[39m \u001b[39mNone\u001b[39;00m,\n\u001b[0;32m   (...)\u001b[0m\n\u001b[1;32m   <a href='file:///~/miniforge3/envs/caret_env/lib/python3.8/site-packages/pycaret/regression.py?line=1703'>1704</a>\u001b[0m     verbose: \u001b[39mbool\u001b[39m \u001b[39m=\u001b[39m \u001b[39mTrue\u001b[39;00m,\n\u001b[1;32m   <a href='file:///~/miniforge3/envs/caret_env/lib/python3.8/site-packages/pycaret/regression.py?line=1704'>1705</a>\u001b[0m ) \u001b[39m-\u001b[39m\u001b[39m>\u001b[39m pd\u001b[39m.\u001b[39mDataFrame:\n\u001b[1;32m   <a href='file:///~/miniforge3/envs/caret_env/lib/python3.8/site-packages/pycaret/regression.py?line=1706'>1707</a>\u001b[0m     \u001b[39m\"\"\"\u001b[39;00m\n\u001b[1;32m   <a href='file:///~/miniforge3/envs/caret_env/lib/python3.8/site-packages/pycaret/regression.py?line=1707'>1708</a>\u001b[0m \u001b[39m    This function predicts ``Label`` using a trained model. When ``data`` is\u001b[39;00m\n\u001b[1;32m   <a href='file:///~/miniforge3/envs/caret_env/lib/python3.8/site-packages/pycaret/regression.py?line=1708'>1709</a>\u001b[0m \u001b[39m    None, it predicts label on the holdout set.\u001b[39;00m\n\u001b[0;32m   (...)\u001b[0m\n\u001b[1;32m   <a href='file:///~/miniforge3/envs/caret_env/lib/python3.8/site-packages/pycaret/regression.py?line=1755'>1756</a>\u001b[0m \n\u001b[1;32m   <a href='file:///~/miniforge3/envs/caret_env/lib/python3.8/site-packages/pycaret/regression.py?line=1756'>1757</a>\u001b[0m \u001b[39m    \"\"\"\u001b[39;00m\n\u001b[0;32m-> <a href='file:///~/miniforge3/envs/caret_env/lib/python3.8/site-packages/pycaret/regression.py?line=1758'>1759</a>\u001b[0m     \u001b[39mreturn\u001b[39;00m pycaret\u001b[39m.\u001b[39;49minternal\u001b[39m.\u001b[39;49mtabular\u001b[39m.\u001b[39;49mpredict_model(\n\u001b[1;32m   <a href='file:///~/miniforge3/envs/caret_env/lib/python3.8/site-packages/pycaret/regression.py?line=1759'>1760</a>\u001b[0m         estimator\u001b[39m=\u001b[39;49mestimator,\n\u001b[1;32m   <a href='file:///~/miniforge3/envs/caret_env/lib/python3.8/site-packages/pycaret/regression.py?line=1760'>1761</a>\u001b[0m         data\u001b[39m=\u001b[39;49mdata,\n\u001b[1;32m   <a href='file:///~/miniforge3/envs/caret_env/lib/python3.8/site-packages/pycaret/regression.py?line=1761'>1762</a>\u001b[0m         drift_report\u001b[39m=\u001b[39;49mdrift_report,\n\u001b[1;32m   <a href='file:///~/miniforge3/envs/caret_env/lib/python3.8/site-packages/pycaret/regression.py?line=1762'>1763</a>\u001b[0m         probability_threshold\u001b[39m=\u001b[39;49m\u001b[39mNone\u001b[39;49;00m,\n\u001b[1;32m   <a href='file:///~/miniforge3/envs/caret_env/lib/python3.8/site-packages/pycaret/regression.py?line=1763'>1764</a>\u001b[0m         encoded_labels\u001b[39m=\u001b[39;49m\u001b[39mTrue\u001b[39;49;00m,\n\u001b[1;32m   <a href='file:///~/miniforge3/envs/caret_env/lib/python3.8/site-packages/pycaret/regression.py?line=1764'>1765</a>\u001b[0m         \u001b[39mround\u001b[39;49m\u001b[39m=\u001b[39;49m\u001b[39mround\u001b[39;49m,\n\u001b[1;32m   <a href='file:///~/miniforge3/envs/caret_env/lib/python3.8/site-packages/pycaret/regression.py?line=1765'>1766</a>\u001b[0m         verbose\u001b[39m=\u001b[39;49mverbose,\n\u001b[1;32m   <a href='file:///~/miniforge3/envs/caret_env/lib/python3.8/site-packages/pycaret/regression.py?line=1766'>1767</a>\u001b[0m         ml_usecase\u001b[39m=\u001b[39;49mMLUsecase\u001b[39m.\u001b[39;49mREGRESSION,\n\u001b[1;32m   <a href='file:///~/miniforge3/envs/caret_env/lib/python3.8/site-packages/pycaret/regression.py?line=1767'>1768</a>\u001b[0m     )\n",
      "File \u001b[0;32m~/miniforge3/envs/caret_env/lib/python3.8/site-packages/pycaret/internal/tabular.py:8815\u001b[0m, in \u001b[0;36mpredict_model\u001b[0;34m(estimator, data, probability_threshold, encoded_labels, drift_report, raw_score, round, verbose, ml_usecase, display)\u001b[0m\n\u001b[1;32m   <a href='file:///~/miniforge3/envs/caret_env/lib/python3.8/site-packages/pycaret/internal/tabular.py?line=8811'>8812</a>\u001b[0m         probability_threshold \u001b[39m=\u001b[39m estimator\u001b[39m.\u001b[39mprobability_threshold\n\u001b[1;32m   <a href='file:///~/miniforge3/envs/caret_env/lib/python3.8/site-packages/pycaret/internal/tabular.py?line=8812'>8813</a>\u001b[0m     estimator \u001b[39m=\u001b[39m get_estimator_from_meta_estimator(estimator)\n\u001b[0;32m-> <a href='file:///~/miniforge3/envs/caret_env/lib/python3.8/site-packages/pycaret/internal/tabular.py?line=8814'>8815</a>\u001b[0m pred \u001b[39m=\u001b[39m np\u001b[39m.\u001b[39mnan_to_num(estimator\u001b[39m.\u001b[39;49mpredict(X_test_))\n\u001b[1;32m   <a href='file:///~/miniforge3/envs/caret_env/lib/python3.8/site-packages/pycaret/internal/tabular.py?line=8816'>8817</a>\u001b[0m \u001b[39mtry\u001b[39;00m:\n\u001b[1;32m   <a href='file:///~/miniforge3/envs/caret_env/lib/python3.8/site-packages/pycaret/internal/tabular.py?line=8817'>8818</a>\u001b[0m     score \u001b[39m=\u001b[39m estimator\u001b[39m.\u001b[39mpredict_proba(X_test_)\n",
      "File \u001b[0;32m~/miniforge3/envs/caret_env/lib/python3.8/site-packages/sklearn/utils/metaestimators.py:119\u001b[0m, in \u001b[0;36m_IffHasAttrDescriptor.__get__.<locals>.<lambda>\u001b[0;34m(*args, **kwargs)\u001b[0m\n\u001b[1;32m    <a href='file:///~/miniforge3/envs/caret_env/lib/python3.8/site-packages/sklearn/utils/metaestimators.py?line=115'>116</a>\u001b[0m         attrgetter(\u001b[39mself\u001b[39m\u001b[39m.\u001b[39mdelegate_names[\u001b[39m-\u001b[39m\u001b[39m1\u001b[39m])(obj)\n\u001b[1;32m    <a href='file:///~/miniforge3/envs/caret_env/lib/python3.8/site-packages/sklearn/utils/metaestimators.py?line=117'>118</a>\u001b[0m \u001b[39m# lambda, but not partial, allows help() to work with update_wrapper\u001b[39;00m\n\u001b[0;32m--> <a href='file:///~/miniforge3/envs/caret_env/lib/python3.8/site-packages/sklearn/utils/metaestimators.py?line=118'>119</a>\u001b[0m out \u001b[39m=\u001b[39m \u001b[39mlambda\u001b[39;00m \u001b[39m*\u001b[39margs, \u001b[39m*\u001b[39m\u001b[39m*\u001b[39mkwargs: \u001b[39mself\u001b[39;49m\u001b[39m.\u001b[39;49mfn(obj, \u001b[39m*\u001b[39;49margs, \u001b[39m*\u001b[39;49m\u001b[39m*\u001b[39;49mkwargs)\n\u001b[1;32m    <a href='file:///~/miniforge3/envs/caret_env/lib/python3.8/site-packages/sklearn/utils/metaestimators.py?line=119'>120</a>\u001b[0m \u001b[39m# update the docstring of the returned function\u001b[39;00m\n\u001b[1;32m    <a href='file:///~/miniforge3/envs/caret_env/lib/python3.8/site-packages/sklearn/utils/metaestimators.py?line=120'>121</a>\u001b[0m update_wrapper(out, \u001b[39mself\u001b[39m\u001b[39m.\u001b[39mfn)\n",
      "File \u001b[0;32m~/miniforge3/envs/caret_env/lib/python3.8/site-packages/sklearn/pipeline.py:407\u001b[0m, in \u001b[0;36mPipeline.predict\u001b[0;34m(self, X, **predict_params)\u001b[0m\n\u001b[1;32m    <a href='file:///~/miniforge3/envs/caret_env/lib/python3.8/site-packages/sklearn/pipeline.py?line=404'>405</a>\u001b[0m Xt \u001b[39m=\u001b[39m X\n\u001b[1;32m    <a href='file:///~/miniforge3/envs/caret_env/lib/python3.8/site-packages/sklearn/pipeline.py?line=405'>406</a>\u001b[0m \u001b[39mfor\u001b[39;00m _, name, transform \u001b[39min\u001b[39;00m \u001b[39mself\u001b[39m\u001b[39m.\u001b[39m_iter(with_final\u001b[39m=\u001b[39m\u001b[39mFalse\u001b[39;00m):\n\u001b[0;32m--> <a href='file:///~/miniforge3/envs/caret_env/lib/python3.8/site-packages/sklearn/pipeline.py?line=406'>407</a>\u001b[0m     Xt \u001b[39m=\u001b[39m transform\u001b[39m.\u001b[39;49mtransform(Xt)\n\u001b[1;32m    <a href='file:///~/miniforge3/envs/caret_env/lib/python3.8/site-packages/sklearn/pipeline.py?line=407'>408</a>\u001b[0m \u001b[39mreturn\u001b[39;00m \u001b[39mself\u001b[39m\u001b[39m.\u001b[39msteps[\u001b[39m-\u001b[39m\u001b[39m1\u001b[39m][\u001b[39m-\u001b[39m\u001b[39m1\u001b[39m]\u001b[39m.\u001b[39mpredict(Xt, \u001b[39m*\u001b[39m\u001b[39m*\u001b[39mpredict_params)\n",
      "File \u001b[0;32m~/miniforge3/envs/caret_env/lib/python3.8/site-packages/pycaret/internal/preprocess.py:405\u001b[0m, in \u001b[0;36mDataTypes_Auto_infer.transform\u001b[0;34m(self, dataset, y)\u001b[0m\n\u001b[1;32m    <a href='file:///~/miniforge3/envs/caret_env/lib/python3.8/site-packages/pycaret/internal/preprocess.py?line=400'>401</a>\u001b[0m         \u001b[39mif\u001b[39;00m \u001b[39mself\u001b[39m\u001b[39m.\u001b[39mlearned_dtypes[i]\u001b[39m.\u001b[39mname \u001b[39m==\u001b[39m \u001b[39m\"\u001b[39m\u001b[39mdatetime64[ns]\u001b[39m\u001b[39m\"\u001b[39m:\n\u001b[1;32m    <a href='file:///~/miniforge3/envs/caret_env/lib/python3.8/site-packages/pycaret/internal/preprocess.py?line=401'>402</a>\u001b[0m             data[i] \u001b[39m=\u001b[39m pd\u001b[39m.\u001b[39mto_datetime(\n\u001b[1;32m    <a href='file:///~/miniforge3/envs/caret_env/lib/python3.8/site-packages/pycaret/internal/preprocess.py?line=402'>403</a>\u001b[0m                 data[i], infer_datetime_format\u001b[39m=\u001b[39m\u001b[39mTrue\u001b[39;00m, utc\u001b[39m=\u001b[39m\u001b[39mFalse\u001b[39;00m, errors\u001b[39m=\u001b[39m\u001b[39m\"\u001b[39m\u001b[39mcoerce\u001b[39m\u001b[39m\"\u001b[39m\n\u001b[1;32m    <a href='file:///~/miniforge3/envs/caret_env/lib/python3.8/site-packages/pycaret/internal/preprocess.py?line=403'>404</a>\u001b[0m             )\n\u001b[0;32m--> <a href='file:///~/miniforge3/envs/caret_env/lib/python3.8/site-packages/pycaret/internal/preprocess.py?line=404'>405</a>\u001b[0m         data[i] \u001b[39m=\u001b[39m data[i]\u001b[39m.\u001b[39;49mastype(\u001b[39mself\u001b[39;49m\u001b[39m.\u001b[39;49mlearned_dtypes[i])\n\u001b[1;32m    <a href='file:///~/miniforge3/envs/caret_env/lib/python3.8/site-packages/pycaret/internal/preprocess.py?line=406'>407</a>\u001b[0m \u001b[39m# drop time columns\u001b[39;00m\n\u001b[1;32m    <a href='file:///~/miniforge3/envs/caret_env/lib/python3.8/site-packages/pycaret/internal/preprocess.py?line=407'>408</a>\u001b[0m \u001b[39m# data.drop(self.drop_time,axis=1,errors='ignore',inplace=True)\u001b[39;00m\n\u001b[1;32m    <a href='file:///~/miniforge3/envs/caret_env/lib/python3.8/site-packages/pycaret/internal/preprocess.py?line=408'>409</a>\u001b[0m \n\u001b[1;32m    <a href='file:///~/miniforge3/envs/caret_env/lib/python3.8/site-packages/pycaret/internal/preprocess.py?line=409'>410</a>\u001b[0m \u001b[39m# drop id columns\u001b[39;00m\n\u001b[1;32m    <a href='file:///~/miniforge3/envs/caret_env/lib/python3.8/site-packages/pycaret/internal/preprocess.py?line=410'>411</a>\u001b[0m data\u001b[39m.\u001b[39mdrop(\u001b[39mself\u001b[39m\u001b[39m.\u001b[39mid_columns, axis\u001b[39m=\u001b[39m\u001b[39m1\u001b[39m, errors\u001b[39m=\u001b[39m\u001b[39m\"\u001b[39m\u001b[39mignore\u001b[39m\u001b[39m\"\u001b[39m, inplace\u001b[39m=\u001b[39m\u001b[39mTrue\u001b[39;00m)\n",
      "File \u001b[0;32m~/miniforge3/envs/caret_env/lib/python3.8/site-packages/pandas/core/generic.py:5815\u001b[0m, in \u001b[0;36mNDFrame.astype\u001b[0;34m(self, dtype, copy, errors)\u001b[0m\n\u001b[1;32m   <a href='file:///~/miniforge3/envs/caret_env/lib/python3.8/site-packages/pandas/core/generic.py?line=5807'>5808</a>\u001b[0m     results \u001b[39m=\u001b[39m [\n\u001b[1;32m   <a href='file:///~/miniforge3/envs/caret_env/lib/python3.8/site-packages/pandas/core/generic.py?line=5808'>5809</a>\u001b[0m         \u001b[39mself\u001b[39m\u001b[39m.\u001b[39miloc[:, i]\u001b[39m.\u001b[39mastype(dtype, copy\u001b[39m=\u001b[39mcopy)\n\u001b[1;32m   <a href='file:///~/miniforge3/envs/caret_env/lib/python3.8/site-packages/pandas/core/generic.py?line=5809'>5810</a>\u001b[0m         \u001b[39mfor\u001b[39;00m i \u001b[39min\u001b[39;00m \u001b[39mrange\u001b[39m(\u001b[39mlen\u001b[39m(\u001b[39mself\u001b[39m\u001b[39m.\u001b[39mcolumns))\n\u001b[1;32m   <a href='file:///~/miniforge3/envs/caret_env/lib/python3.8/site-packages/pandas/core/generic.py?line=5810'>5811</a>\u001b[0m     ]\n\u001b[1;32m   <a href='file:///~/miniforge3/envs/caret_env/lib/python3.8/site-packages/pandas/core/generic.py?line=5812'>5813</a>\u001b[0m \u001b[39melse\u001b[39;00m:\n\u001b[1;32m   <a href='file:///~/miniforge3/envs/caret_env/lib/python3.8/site-packages/pandas/core/generic.py?line=5813'>5814</a>\u001b[0m     \u001b[39m# else, only a single dtype is given\u001b[39;00m\n\u001b[0;32m-> <a href='file:///~/miniforge3/envs/caret_env/lib/python3.8/site-packages/pandas/core/generic.py?line=5814'>5815</a>\u001b[0m     new_data \u001b[39m=\u001b[39m \u001b[39mself\u001b[39;49m\u001b[39m.\u001b[39;49m_mgr\u001b[39m.\u001b[39;49mastype(dtype\u001b[39m=\u001b[39;49mdtype, copy\u001b[39m=\u001b[39;49mcopy, errors\u001b[39m=\u001b[39;49merrors)\n\u001b[1;32m   <a href='file:///~/miniforge3/envs/caret_env/lib/python3.8/site-packages/pandas/core/generic.py?line=5815'>5816</a>\u001b[0m     \u001b[39mreturn\u001b[39;00m \u001b[39mself\u001b[39m\u001b[39m.\u001b[39m_constructor(new_data)\u001b[39m.\u001b[39m__finalize__(\u001b[39mself\u001b[39m, method\u001b[39m=\u001b[39m\u001b[39m\"\u001b[39m\u001b[39mastype\u001b[39m\u001b[39m\"\u001b[39m)\n\u001b[1;32m   <a href='file:///~/miniforge3/envs/caret_env/lib/python3.8/site-packages/pandas/core/generic.py?line=5817'>5818</a>\u001b[0m \u001b[39m# GH 33113: handle empty frame or series\u001b[39;00m\n",
      "File \u001b[0;32m~/miniforge3/envs/caret_env/lib/python3.8/site-packages/pandas/core/internals/managers.py:418\u001b[0m, in \u001b[0;36mBaseBlockManager.astype\u001b[0;34m(self, dtype, copy, errors)\u001b[0m\n\u001b[1;32m    <a href='file:///~/miniforge3/envs/caret_env/lib/python3.8/site-packages/pandas/core/internals/managers.py?line=416'>417</a>\u001b[0m \u001b[39mdef\u001b[39;00m \u001b[39mastype\u001b[39m(\u001b[39mself\u001b[39m: T, dtype, copy: \u001b[39mbool\u001b[39m \u001b[39m=\u001b[39m \u001b[39mFalse\u001b[39;00m, errors: \u001b[39mstr\u001b[39m \u001b[39m=\u001b[39m \u001b[39m\"\u001b[39m\u001b[39mraise\u001b[39m\u001b[39m\"\u001b[39m) \u001b[39m-\u001b[39m\u001b[39m>\u001b[39m T:\n\u001b[0;32m--> <a href='file:///~/miniforge3/envs/caret_env/lib/python3.8/site-packages/pandas/core/internals/managers.py?line=417'>418</a>\u001b[0m     \u001b[39mreturn\u001b[39;00m \u001b[39mself\u001b[39;49m\u001b[39m.\u001b[39;49mapply(\u001b[39m\"\u001b[39;49m\u001b[39mastype\u001b[39;49m\u001b[39m\"\u001b[39;49m, dtype\u001b[39m=\u001b[39;49mdtype, copy\u001b[39m=\u001b[39;49mcopy, errors\u001b[39m=\u001b[39;49merrors)\n",
      "File \u001b[0;32m~/miniforge3/envs/caret_env/lib/python3.8/site-packages/pandas/core/internals/managers.py:327\u001b[0m, in \u001b[0;36mBaseBlockManager.apply\u001b[0;34m(self, f, align_keys, ignore_failures, **kwargs)\u001b[0m\n\u001b[1;32m    <a href='file:///~/miniforge3/envs/caret_env/lib/python3.8/site-packages/pandas/core/internals/managers.py?line=324'>325</a>\u001b[0m         applied \u001b[39m=\u001b[39m b\u001b[39m.\u001b[39mapply(f, \u001b[39m*\u001b[39m\u001b[39m*\u001b[39mkwargs)\n\u001b[1;32m    <a href='file:///~/miniforge3/envs/caret_env/lib/python3.8/site-packages/pandas/core/internals/managers.py?line=325'>326</a>\u001b[0m     \u001b[39melse\u001b[39;00m:\n\u001b[0;32m--> <a href='file:///~/miniforge3/envs/caret_env/lib/python3.8/site-packages/pandas/core/internals/managers.py?line=326'>327</a>\u001b[0m         applied \u001b[39m=\u001b[39m \u001b[39mgetattr\u001b[39;49m(b, f)(\u001b[39m*\u001b[39;49m\u001b[39m*\u001b[39;49mkwargs)\n\u001b[1;32m    <a href='file:///~/miniforge3/envs/caret_env/lib/python3.8/site-packages/pandas/core/internals/managers.py?line=327'>328</a>\u001b[0m \u001b[39mexcept\u001b[39;00m (\u001b[39mTypeError\u001b[39;00m, \u001b[39mNotImplementedError\u001b[39;00m):\n\u001b[1;32m    <a href='file:///~/miniforge3/envs/caret_env/lib/python3.8/site-packages/pandas/core/internals/managers.py?line=328'>329</a>\u001b[0m     \u001b[39mif\u001b[39;00m \u001b[39mnot\u001b[39;00m ignore_failures:\n",
      "File \u001b[0;32m~/miniforge3/envs/caret_env/lib/python3.8/site-packages/pandas/core/internals/blocks.py:591\u001b[0m, in \u001b[0;36mBlock.astype\u001b[0;34m(self, dtype, copy, errors)\u001b[0m\n\u001b[1;32m    <a href='file:///~/miniforge3/envs/caret_env/lib/python3.8/site-packages/pandas/core/internals/blocks.py?line=572'>573</a>\u001b[0m \u001b[39m\"\"\"\u001b[39;00m\n\u001b[1;32m    <a href='file:///~/miniforge3/envs/caret_env/lib/python3.8/site-packages/pandas/core/internals/blocks.py?line=573'>574</a>\u001b[0m \u001b[39mCoerce to the new dtype.\u001b[39;00m\n\u001b[1;32m    <a href='file:///~/miniforge3/envs/caret_env/lib/python3.8/site-packages/pandas/core/internals/blocks.py?line=574'>575</a>\u001b[0m \n\u001b[0;32m   (...)\u001b[0m\n\u001b[1;32m    <a href='file:///~/miniforge3/envs/caret_env/lib/python3.8/site-packages/pandas/core/internals/blocks.py?line=586'>587</a>\u001b[0m \u001b[39mBlock\u001b[39;00m\n\u001b[1;32m    <a href='file:///~/miniforge3/envs/caret_env/lib/python3.8/site-packages/pandas/core/internals/blocks.py?line=587'>588</a>\u001b[0m \u001b[39m\"\"\"\u001b[39;00m\n\u001b[1;32m    <a href='file:///~/miniforge3/envs/caret_env/lib/python3.8/site-packages/pandas/core/internals/blocks.py?line=588'>589</a>\u001b[0m values \u001b[39m=\u001b[39m \u001b[39mself\u001b[39m\u001b[39m.\u001b[39mvalues\n\u001b[0;32m--> <a href='file:///~/miniforge3/envs/caret_env/lib/python3.8/site-packages/pandas/core/internals/blocks.py?line=590'>591</a>\u001b[0m new_values \u001b[39m=\u001b[39m astype_array_safe(values, dtype, copy\u001b[39m=\u001b[39;49mcopy, errors\u001b[39m=\u001b[39;49merrors)\n\u001b[1;32m    <a href='file:///~/miniforge3/envs/caret_env/lib/python3.8/site-packages/pandas/core/internals/blocks.py?line=592'>593</a>\u001b[0m new_values \u001b[39m=\u001b[39m maybe_coerce_values(new_values)\n\u001b[1;32m    <a href='file:///~/miniforge3/envs/caret_env/lib/python3.8/site-packages/pandas/core/internals/blocks.py?line=593'>594</a>\u001b[0m newb \u001b[39m=\u001b[39m \u001b[39mself\u001b[39m\u001b[39m.\u001b[39mmake_block(new_values)\n",
      "File \u001b[0;32m~/miniforge3/envs/caret_env/lib/python3.8/site-packages/pandas/core/dtypes/cast.py:1309\u001b[0m, in \u001b[0;36mastype_array_safe\u001b[0;34m(values, dtype, copy, errors)\u001b[0m\n\u001b[1;32m   <a href='file:///~/miniforge3/envs/caret_env/lib/python3.8/site-packages/pandas/core/dtypes/cast.py?line=1305'>1306</a>\u001b[0m dtype \u001b[39m=\u001b[39m pandas_dtype(dtype)\n\u001b[1;32m   <a href='file:///~/miniforge3/envs/caret_env/lib/python3.8/site-packages/pandas/core/dtypes/cast.py?line=1307'>1308</a>\u001b[0m \u001b[39mtry\u001b[39;00m:\n\u001b[0;32m-> <a href='file:///~/miniforge3/envs/caret_env/lib/python3.8/site-packages/pandas/core/dtypes/cast.py?line=1308'>1309</a>\u001b[0m     new_values \u001b[39m=\u001b[39m astype_array(values, dtype, copy\u001b[39m=\u001b[39;49mcopy)\n\u001b[1;32m   <a href='file:///~/miniforge3/envs/caret_env/lib/python3.8/site-packages/pandas/core/dtypes/cast.py?line=1309'>1310</a>\u001b[0m \u001b[39mexcept\u001b[39;00m (\u001b[39mValueError\u001b[39;00m, \u001b[39mTypeError\u001b[39;00m):\n\u001b[1;32m   <a href='file:///~/miniforge3/envs/caret_env/lib/python3.8/site-packages/pandas/core/dtypes/cast.py?line=1310'>1311</a>\u001b[0m     \u001b[39m# e.g. astype_nansafe can fail on object-dtype of strings\u001b[39;00m\n\u001b[1;32m   <a href='file:///~/miniforge3/envs/caret_env/lib/python3.8/site-packages/pandas/core/dtypes/cast.py?line=1311'>1312</a>\u001b[0m     \u001b[39m#  trying to convert to float\u001b[39;00m\n\u001b[1;32m   <a href='file:///~/miniforge3/envs/caret_env/lib/python3.8/site-packages/pandas/core/dtypes/cast.py?line=1312'>1313</a>\u001b[0m     \u001b[39mif\u001b[39;00m errors \u001b[39m==\u001b[39m \u001b[39m\"\u001b[39m\u001b[39mignore\u001b[39m\u001b[39m\"\u001b[39m:\n",
      "File \u001b[0;32m~/miniforge3/envs/caret_env/lib/python3.8/site-packages/pandas/core/dtypes/cast.py:1257\u001b[0m, in \u001b[0;36mastype_array\u001b[0;34m(values, dtype, copy)\u001b[0m\n\u001b[1;32m   <a href='file:///~/miniforge3/envs/caret_env/lib/python3.8/site-packages/pandas/core/dtypes/cast.py?line=1253'>1254</a>\u001b[0m     values \u001b[39m=\u001b[39m values\u001b[39m.\u001b[39mastype(dtype, copy\u001b[39m=\u001b[39mcopy)\n\u001b[1;32m   <a href='file:///~/miniforge3/envs/caret_env/lib/python3.8/site-packages/pandas/core/dtypes/cast.py?line=1255'>1256</a>\u001b[0m \u001b[39melse\u001b[39;00m:\n\u001b[0;32m-> <a href='file:///~/miniforge3/envs/caret_env/lib/python3.8/site-packages/pandas/core/dtypes/cast.py?line=1256'>1257</a>\u001b[0m     values \u001b[39m=\u001b[39m astype_nansafe(values, dtype, copy\u001b[39m=\u001b[39;49mcopy)\n\u001b[1;32m   <a href='file:///~/miniforge3/envs/caret_env/lib/python3.8/site-packages/pandas/core/dtypes/cast.py?line=1258'>1259</a>\u001b[0m \u001b[39m# in pandas we don't store numpy str dtypes, so convert to object\u001b[39;00m\n\u001b[1;32m   <a href='file:///~/miniforge3/envs/caret_env/lib/python3.8/site-packages/pandas/core/dtypes/cast.py?line=1259'>1260</a>\u001b[0m \u001b[39mif\u001b[39;00m \u001b[39misinstance\u001b[39m(dtype, np\u001b[39m.\u001b[39mdtype) \u001b[39mand\u001b[39;00m \u001b[39missubclass\u001b[39m(values\u001b[39m.\u001b[39mdtype\u001b[39m.\u001b[39mtype, \u001b[39mstr\u001b[39m):\n",
      "File \u001b[0;32m~/miniforge3/envs/caret_env/lib/python3.8/site-packages/pandas/core/dtypes/cast.py:1201\u001b[0m, in \u001b[0;36mastype_nansafe\u001b[0;34m(arr, dtype, copy, skipna)\u001b[0m\n\u001b[1;32m   <a href='file:///~/miniforge3/envs/caret_env/lib/python3.8/site-packages/pandas/core/dtypes/cast.py?line=1196'>1197</a>\u001b[0m     \u001b[39mraise\u001b[39;00m \u001b[39mValueError\u001b[39;00m(msg)\n\u001b[1;32m   <a href='file:///~/miniforge3/envs/caret_env/lib/python3.8/site-packages/pandas/core/dtypes/cast.py?line=1198'>1199</a>\u001b[0m \u001b[39mif\u001b[39;00m copy \u001b[39mor\u001b[39;00m is_object_dtype(arr\u001b[39m.\u001b[39mdtype) \u001b[39mor\u001b[39;00m is_object_dtype(dtype):\n\u001b[1;32m   <a href='file:///~/miniforge3/envs/caret_env/lib/python3.8/site-packages/pandas/core/dtypes/cast.py?line=1199'>1200</a>\u001b[0m     \u001b[39m# Explicit copy, or required since NumPy can't view from / to object.\u001b[39;00m\n\u001b[0;32m-> <a href='file:///~/miniforge3/envs/caret_env/lib/python3.8/site-packages/pandas/core/dtypes/cast.py?line=1200'>1201</a>\u001b[0m     \u001b[39mreturn\u001b[39;00m arr\u001b[39m.\u001b[39;49mastype(dtype, copy\u001b[39m=\u001b[39;49m\u001b[39mTrue\u001b[39;49;00m)\n\u001b[1;32m   <a href='file:///~/miniforge3/envs/caret_env/lib/python3.8/site-packages/pandas/core/dtypes/cast.py?line=1202'>1203</a>\u001b[0m \u001b[39mreturn\u001b[39;00m arr\u001b[39m.\u001b[39mastype(dtype, copy\u001b[39m=\u001b[39mcopy)\n",
      "\u001b[0;31mValueError\u001b[0m: could not convert string to float: '구름 많음'"
     ]
    }
   ],
   "source": [
    "predict_model(model,X_val)"
   ]
  },
  {
   "cell_type": "code",
   "execution_count": 14,
   "metadata": {},
   "outputs": [
    {
     "ename": "ValueError",
     "evalue": "could not convert string to float: '구름 많음'",
     "output_type": "error",
     "traceback": [
      "\u001b[0;31m---------------------------------------------------------------------------\u001b[0m",
      "\u001b[0;31mValueError\u001b[0m                                Traceback (most recent call last)",
      "\u001b[1;32m/Users/beomso0/Documents/GH/Hyundai/deploy_st/jh_caret/test.ipynb Cell 5'\u001b[0m in \u001b[0;36m<module>\u001b[0;34m\u001b[0m\n\u001b[0;32m----> <a href='vscode-notebook-cell:/Users/beomso0/Documents/GH/Hyundai/deploy_st/jh_caret/test.ipynb#ch0000005?line=0'>1</a>\u001b[0m model\u001b[39m.\u001b[39;49mpredict(X_val)\n",
      "File \u001b[0;32m~/miniforge3/envs/caret_env/lib/python3.8/site-packages/sklearn/utils/metaestimators.py:119\u001b[0m, in \u001b[0;36m_IffHasAttrDescriptor.__get__.<locals>.<lambda>\u001b[0;34m(*args, **kwargs)\u001b[0m\n\u001b[1;32m    <a href='file:///~/miniforge3/envs/caret_env/lib/python3.8/site-packages/sklearn/utils/metaestimators.py?line=115'>116</a>\u001b[0m         attrgetter(\u001b[39mself\u001b[39m\u001b[39m.\u001b[39mdelegate_names[\u001b[39m-\u001b[39m\u001b[39m1\u001b[39m])(obj)\n\u001b[1;32m    <a href='file:///~/miniforge3/envs/caret_env/lib/python3.8/site-packages/sklearn/utils/metaestimators.py?line=117'>118</a>\u001b[0m \u001b[39m# lambda, but not partial, allows help() to work with update_wrapper\u001b[39;00m\n\u001b[0;32m--> <a href='file:///~/miniforge3/envs/caret_env/lib/python3.8/site-packages/sklearn/utils/metaestimators.py?line=118'>119</a>\u001b[0m out \u001b[39m=\u001b[39m \u001b[39mlambda\u001b[39;00m \u001b[39m*\u001b[39margs, \u001b[39m*\u001b[39m\u001b[39m*\u001b[39mkwargs: \u001b[39mself\u001b[39;49m\u001b[39m.\u001b[39;49mfn(obj, \u001b[39m*\u001b[39;49margs, \u001b[39m*\u001b[39;49m\u001b[39m*\u001b[39;49mkwargs)\n\u001b[1;32m    <a href='file:///~/miniforge3/envs/caret_env/lib/python3.8/site-packages/sklearn/utils/metaestimators.py?line=119'>120</a>\u001b[0m \u001b[39m# update the docstring of the returned function\u001b[39;00m\n\u001b[1;32m    <a href='file:///~/miniforge3/envs/caret_env/lib/python3.8/site-packages/sklearn/utils/metaestimators.py?line=120'>121</a>\u001b[0m update_wrapper(out, \u001b[39mself\u001b[39m\u001b[39m.\u001b[39mfn)\n",
      "File \u001b[0;32m~/miniforge3/envs/caret_env/lib/python3.8/site-packages/sklearn/pipeline.py:407\u001b[0m, in \u001b[0;36mPipeline.predict\u001b[0;34m(self, X, **predict_params)\u001b[0m\n\u001b[1;32m    <a href='file:///~/miniforge3/envs/caret_env/lib/python3.8/site-packages/sklearn/pipeline.py?line=404'>405</a>\u001b[0m Xt \u001b[39m=\u001b[39m X\n\u001b[1;32m    <a href='file:///~/miniforge3/envs/caret_env/lib/python3.8/site-packages/sklearn/pipeline.py?line=405'>406</a>\u001b[0m \u001b[39mfor\u001b[39;00m _, name, transform \u001b[39min\u001b[39;00m \u001b[39mself\u001b[39m\u001b[39m.\u001b[39m_iter(with_final\u001b[39m=\u001b[39m\u001b[39mFalse\u001b[39;00m):\n\u001b[0;32m--> <a href='file:///~/miniforge3/envs/caret_env/lib/python3.8/site-packages/sklearn/pipeline.py?line=406'>407</a>\u001b[0m     Xt \u001b[39m=\u001b[39m transform\u001b[39m.\u001b[39;49mtransform(Xt)\n\u001b[1;32m    <a href='file:///~/miniforge3/envs/caret_env/lib/python3.8/site-packages/sklearn/pipeline.py?line=407'>408</a>\u001b[0m \u001b[39mreturn\u001b[39;00m \u001b[39mself\u001b[39m\u001b[39m.\u001b[39msteps[\u001b[39m-\u001b[39m\u001b[39m1\u001b[39m][\u001b[39m-\u001b[39m\u001b[39m1\u001b[39m]\u001b[39m.\u001b[39mpredict(Xt, \u001b[39m*\u001b[39m\u001b[39m*\u001b[39mpredict_params)\n",
      "File \u001b[0;32m~/miniforge3/envs/caret_env/lib/python3.8/site-packages/pycaret/internal/preprocess.py:405\u001b[0m, in \u001b[0;36mDataTypes_Auto_infer.transform\u001b[0;34m(self, dataset, y)\u001b[0m\n\u001b[1;32m    <a href='file:///~/miniforge3/envs/caret_env/lib/python3.8/site-packages/pycaret/internal/preprocess.py?line=400'>401</a>\u001b[0m         \u001b[39mif\u001b[39;00m \u001b[39mself\u001b[39m\u001b[39m.\u001b[39mlearned_dtypes[i]\u001b[39m.\u001b[39mname \u001b[39m==\u001b[39m \u001b[39m\"\u001b[39m\u001b[39mdatetime64[ns]\u001b[39m\u001b[39m\"\u001b[39m:\n\u001b[1;32m    <a href='file:///~/miniforge3/envs/caret_env/lib/python3.8/site-packages/pycaret/internal/preprocess.py?line=401'>402</a>\u001b[0m             data[i] \u001b[39m=\u001b[39m pd\u001b[39m.\u001b[39mto_datetime(\n\u001b[1;32m    <a href='file:///~/miniforge3/envs/caret_env/lib/python3.8/site-packages/pycaret/internal/preprocess.py?line=402'>403</a>\u001b[0m                 data[i], infer_datetime_format\u001b[39m=\u001b[39m\u001b[39mTrue\u001b[39;00m, utc\u001b[39m=\u001b[39m\u001b[39mFalse\u001b[39;00m, errors\u001b[39m=\u001b[39m\u001b[39m\"\u001b[39m\u001b[39mcoerce\u001b[39m\u001b[39m\"\u001b[39m\n\u001b[1;32m    <a href='file:///~/miniforge3/envs/caret_env/lib/python3.8/site-packages/pycaret/internal/preprocess.py?line=403'>404</a>\u001b[0m             )\n\u001b[0;32m--> <a href='file:///~/miniforge3/envs/caret_env/lib/python3.8/site-packages/pycaret/internal/preprocess.py?line=404'>405</a>\u001b[0m         data[i] \u001b[39m=\u001b[39m data[i]\u001b[39m.\u001b[39;49mastype(\u001b[39mself\u001b[39;49m\u001b[39m.\u001b[39;49mlearned_dtypes[i])\n\u001b[1;32m    <a href='file:///~/miniforge3/envs/caret_env/lib/python3.8/site-packages/pycaret/internal/preprocess.py?line=406'>407</a>\u001b[0m \u001b[39m# drop time columns\u001b[39;00m\n\u001b[1;32m    <a href='file:///~/miniforge3/envs/caret_env/lib/python3.8/site-packages/pycaret/internal/preprocess.py?line=407'>408</a>\u001b[0m \u001b[39m# data.drop(self.drop_time,axis=1,errors='ignore',inplace=True)\u001b[39;00m\n\u001b[1;32m    <a href='file:///~/miniforge3/envs/caret_env/lib/python3.8/site-packages/pycaret/internal/preprocess.py?line=408'>409</a>\u001b[0m \n\u001b[1;32m    <a href='file:///~/miniforge3/envs/caret_env/lib/python3.8/site-packages/pycaret/internal/preprocess.py?line=409'>410</a>\u001b[0m \u001b[39m# drop id columns\u001b[39;00m\n\u001b[1;32m    <a href='file:///~/miniforge3/envs/caret_env/lib/python3.8/site-packages/pycaret/internal/preprocess.py?line=410'>411</a>\u001b[0m data\u001b[39m.\u001b[39mdrop(\u001b[39mself\u001b[39m\u001b[39m.\u001b[39mid_columns, axis\u001b[39m=\u001b[39m\u001b[39m1\u001b[39m, errors\u001b[39m=\u001b[39m\u001b[39m\"\u001b[39m\u001b[39mignore\u001b[39m\u001b[39m\"\u001b[39m, inplace\u001b[39m=\u001b[39m\u001b[39mTrue\u001b[39;00m)\n",
      "File \u001b[0;32m~/miniforge3/envs/caret_env/lib/python3.8/site-packages/pandas/core/generic.py:5815\u001b[0m, in \u001b[0;36mNDFrame.astype\u001b[0;34m(self, dtype, copy, errors)\u001b[0m\n\u001b[1;32m   <a href='file:///~/miniforge3/envs/caret_env/lib/python3.8/site-packages/pandas/core/generic.py?line=5807'>5808</a>\u001b[0m     results \u001b[39m=\u001b[39m [\n\u001b[1;32m   <a href='file:///~/miniforge3/envs/caret_env/lib/python3.8/site-packages/pandas/core/generic.py?line=5808'>5809</a>\u001b[0m         \u001b[39mself\u001b[39m\u001b[39m.\u001b[39miloc[:, i]\u001b[39m.\u001b[39mastype(dtype, copy\u001b[39m=\u001b[39mcopy)\n\u001b[1;32m   <a href='file:///~/miniforge3/envs/caret_env/lib/python3.8/site-packages/pandas/core/generic.py?line=5809'>5810</a>\u001b[0m         \u001b[39mfor\u001b[39;00m i \u001b[39min\u001b[39;00m \u001b[39mrange\u001b[39m(\u001b[39mlen\u001b[39m(\u001b[39mself\u001b[39m\u001b[39m.\u001b[39mcolumns))\n\u001b[1;32m   <a href='file:///~/miniforge3/envs/caret_env/lib/python3.8/site-packages/pandas/core/generic.py?line=5810'>5811</a>\u001b[0m     ]\n\u001b[1;32m   <a href='file:///~/miniforge3/envs/caret_env/lib/python3.8/site-packages/pandas/core/generic.py?line=5812'>5813</a>\u001b[0m \u001b[39melse\u001b[39;00m:\n\u001b[1;32m   <a href='file:///~/miniforge3/envs/caret_env/lib/python3.8/site-packages/pandas/core/generic.py?line=5813'>5814</a>\u001b[0m     \u001b[39m# else, only a single dtype is given\u001b[39;00m\n\u001b[0;32m-> <a href='file:///~/miniforge3/envs/caret_env/lib/python3.8/site-packages/pandas/core/generic.py?line=5814'>5815</a>\u001b[0m     new_data \u001b[39m=\u001b[39m \u001b[39mself\u001b[39;49m\u001b[39m.\u001b[39;49m_mgr\u001b[39m.\u001b[39;49mastype(dtype\u001b[39m=\u001b[39;49mdtype, copy\u001b[39m=\u001b[39;49mcopy, errors\u001b[39m=\u001b[39;49merrors)\n\u001b[1;32m   <a href='file:///~/miniforge3/envs/caret_env/lib/python3.8/site-packages/pandas/core/generic.py?line=5815'>5816</a>\u001b[0m     \u001b[39mreturn\u001b[39;00m \u001b[39mself\u001b[39m\u001b[39m.\u001b[39m_constructor(new_data)\u001b[39m.\u001b[39m__finalize__(\u001b[39mself\u001b[39m, method\u001b[39m=\u001b[39m\u001b[39m\"\u001b[39m\u001b[39mastype\u001b[39m\u001b[39m\"\u001b[39m)\n\u001b[1;32m   <a href='file:///~/miniforge3/envs/caret_env/lib/python3.8/site-packages/pandas/core/generic.py?line=5817'>5818</a>\u001b[0m \u001b[39m# GH 33113: handle empty frame or series\u001b[39;00m\n",
      "File \u001b[0;32m~/miniforge3/envs/caret_env/lib/python3.8/site-packages/pandas/core/internals/managers.py:418\u001b[0m, in \u001b[0;36mBaseBlockManager.astype\u001b[0;34m(self, dtype, copy, errors)\u001b[0m\n\u001b[1;32m    <a href='file:///~/miniforge3/envs/caret_env/lib/python3.8/site-packages/pandas/core/internals/managers.py?line=416'>417</a>\u001b[0m \u001b[39mdef\u001b[39;00m \u001b[39mastype\u001b[39m(\u001b[39mself\u001b[39m: T, dtype, copy: \u001b[39mbool\u001b[39m \u001b[39m=\u001b[39m \u001b[39mFalse\u001b[39;00m, errors: \u001b[39mstr\u001b[39m \u001b[39m=\u001b[39m \u001b[39m\"\u001b[39m\u001b[39mraise\u001b[39m\u001b[39m\"\u001b[39m) \u001b[39m-\u001b[39m\u001b[39m>\u001b[39m T:\n\u001b[0;32m--> <a href='file:///~/miniforge3/envs/caret_env/lib/python3.8/site-packages/pandas/core/internals/managers.py?line=417'>418</a>\u001b[0m     \u001b[39mreturn\u001b[39;00m \u001b[39mself\u001b[39;49m\u001b[39m.\u001b[39;49mapply(\u001b[39m\"\u001b[39;49m\u001b[39mastype\u001b[39;49m\u001b[39m\"\u001b[39;49m, dtype\u001b[39m=\u001b[39;49mdtype, copy\u001b[39m=\u001b[39;49mcopy, errors\u001b[39m=\u001b[39;49merrors)\n",
      "File \u001b[0;32m~/miniforge3/envs/caret_env/lib/python3.8/site-packages/pandas/core/internals/managers.py:327\u001b[0m, in \u001b[0;36mBaseBlockManager.apply\u001b[0;34m(self, f, align_keys, ignore_failures, **kwargs)\u001b[0m\n\u001b[1;32m    <a href='file:///~/miniforge3/envs/caret_env/lib/python3.8/site-packages/pandas/core/internals/managers.py?line=324'>325</a>\u001b[0m         applied \u001b[39m=\u001b[39m b\u001b[39m.\u001b[39mapply(f, \u001b[39m*\u001b[39m\u001b[39m*\u001b[39mkwargs)\n\u001b[1;32m    <a href='file:///~/miniforge3/envs/caret_env/lib/python3.8/site-packages/pandas/core/internals/managers.py?line=325'>326</a>\u001b[0m     \u001b[39melse\u001b[39;00m:\n\u001b[0;32m--> <a href='file:///~/miniforge3/envs/caret_env/lib/python3.8/site-packages/pandas/core/internals/managers.py?line=326'>327</a>\u001b[0m         applied \u001b[39m=\u001b[39m \u001b[39mgetattr\u001b[39;49m(b, f)(\u001b[39m*\u001b[39;49m\u001b[39m*\u001b[39;49mkwargs)\n\u001b[1;32m    <a href='file:///~/miniforge3/envs/caret_env/lib/python3.8/site-packages/pandas/core/internals/managers.py?line=327'>328</a>\u001b[0m \u001b[39mexcept\u001b[39;00m (\u001b[39mTypeError\u001b[39;00m, \u001b[39mNotImplementedError\u001b[39;00m):\n\u001b[1;32m    <a href='file:///~/miniforge3/envs/caret_env/lib/python3.8/site-packages/pandas/core/internals/managers.py?line=328'>329</a>\u001b[0m     \u001b[39mif\u001b[39;00m \u001b[39mnot\u001b[39;00m ignore_failures:\n",
      "File \u001b[0;32m~/miniforge3/envs/caret_env/lib/python3.8/site-packages/pandas/core/internals/blocks.py:591\u001b[0m, in \u001b[0;36mBlock.astype\u001b[0;34m(self, dtype, copy, errors)\u001b[0m\n\u001b[1;32m    <a href='file:///~/miniforge3/envs/caret_env/lib/python3.8/site-packages/pandas/core/internals/blocks.py?line=572'>573</a>\u001b[0m \u001b[39m\"\"\"\u001b[39;00m\n\u001b[1;32m    <a href='file:///~/miniforge3/envs/caret_env/lib/python3.8/site-packages/pandas/core/internals/blocks.py?line=573'>574</a>\u001b[0m \u001b[39mCoerce to the new dtype.\u001b[39;00m\n\u001b[1;32m    <a href='file:///~/miniforge3/envs/caret_env/lib/python3.8/site-packages/pandas/core/internals/blocks.py?line=574'>575</a>\u001b[0m \n\u001b[0;32m   (...)\u001b[0m\n\u001b[1;32m    <a href='file:///~/miniforge3/envs/caret_env/lib/python3.8/site-packages/pandas/core/internals/blocks.py?line=586'>587</a>\u001b[0m \u001b[39mBlock\u001b[39;00m\n\u001b[1;32m    <a href='file:///~/miniforge3/envs/caret_env/lib/python3.8/site-packages/pandas/core/internals/blocks.py?line=587'>588</a>\u001b[0m \u001b[39m\"\"\"\u001b[39;00m\n\u001b[1;32m    <a href='file:///~/miniforge3/envs/caret_env/lib/python3.8/site-packages/pandas/core/internals/blocks.py?line=588'>589</a>\u001b[0m values \u001b[39m=\u001b[39m \u001b[39mself\u001b[39m\u001b[39m.\u001b[39mvalues\n\u001b[0;32m--> <a href='file:///~/miniforge3/envs/caret_env/lib/python3.8/site-packages/pandas/core/internals/blocks.py?line=590'>591</a>\u001b[0m new_values \u001b[39m=\u001b[39m astype_array_safe(values, dtype, copy\u001b[39m=\u001b[39;49mcopy, errors\u001b[39m=\u001b[39;49merrors)\n\u001b[1;32m    <a href='file:///~/miniforge3/envs/caret_env/lib/python3.8/site-packages/pandas/core/internals/blocks.py?line=592'>593</a>\u001b[0m new_values \u001b[39m=\u001b[39m maybe_coerce_values(new_values)\n\u001b[1;32m    <a href='file:///~/miniforge3/envs/caret_env/lib/python3.8/site-packages/pandas/core/internals/blocks.py?line=593'>594</a>\u001b[0m newb \u001b[39m=\u001b[39m \u001b[39mself\u001b[39m\u001b[39m.\u001b[39mmake_block(new_values)\n",
      "File \u001b[0;32m~/miniforge3/envs/caret_env/lib/python3.8/site-packages/pandas/core/dtypes/cast.py:1309\u001b[0m, in \u001b[0;36mastype_array_safe\u001b[0;34m(values, dtype, copy, errors)\u001b[0m\n\u001b[1;32m   <a href='file:///~/miniforge3/envs/caret_env/lib/python3.8/site-packages/pandas/core/dtypes/cast.py?line=1305'>1306</a>\u001b[0m dtype \u001b[39m=\u001b[39m pandas_dtype(dtype)\n\u001b[1;32m   <a href='file:///~/miniforge3/envs/caret_env/lib/python3.8/site-packages/pandas/core/dtypes/cast.py?line=1307'>1308</a>\u001b[0m \u001b[39mtry\u001b[39;00m:\n\u001b[0;32m-> <a href='file:///~/miniforge3/envs/caret_env/lib/python3.8/site-packages/pandas/core/dtypes/cast.py?line=1308'>1309</a>\u001b[0m     new_values \u001b[39m=\u001b[39m astype_array(values, dtype, copy\u001b[39m=\u001b[39;49mcopy)\n\u001b[1;32m   <a href='file:///~/miniforge3/envs/caret_env/lib/python3.8/site-packages/pandas/core/dtypes/cast.py?line=1309'>1310</a>\u001b[0m \u001b[39mexcept\u001b[39;00m (\u001b[39mValueError\u001b[39;00m, \u001b[39mTypeError\u001b[39;00m):\n\u001b[1;32m   <a href='file:///~/miniforge3/envs/caret_env/lib/python3.8/site-packages/pandas/core/dtypes/cast.py?line=1310'>1311</a>\u001b[0m     \u001b[39m# e.g. astype_nansafe can fail on object-dtype of strings\u001b[39;00m\n\u001b[1;32m   <a href='file:///~/miniforge3/envs/caret_env/lib/python3.8/site-packages/pandas/core/dtypes/cast.py?line=1311'>1312</a>\u001b[0m     \u001b[39m#  trying to convert to float\u001b[39;00m\n\u001b[1;32m   <a href='file:///~/miniforge3/envs/caret_env/lib/python3.8/site-packages/pandas/core/dtypes/cast.py?line=1312'>1313</a>\u001b[0m     \u001b[39mif\u001b[39;00m errors \u001b[39m==\u001b[39m \u001b[39m\"\u001b[39m\u001b[39mignore\u001b[39m\u001b[39m\"\u001b[39m:\n",
      "File \u001b[0;32m~/miniforge3/envs/caret_env/lib/python3.8/site-packages/pandas/core/dtypes/cast.py:1257\u001b[0m, in \u001b[0;36mastype_array\u001b[0;34m(values, dtype, copy)\u001b[0m\n\u001b[1;32m   <a href='file:///~/miniforge3/envs/caret_env/lib/python3.8/site-packages/pandas/core/dtypes/cast.py?line=1253'>1254</a>\u001b[0m     values \u001b[39m=\u001b[39m values\u001b[39m.\u001b[39mastype(dtype, copy\u001b[39m=\u001b[39mcopy)\n\u001b[1;32m   <a href='file:///~/miniforge3/envs/caret_env/lib/python3.8/site-packages/pandas/core/dtypes/cast.py?line=1255'>1256</a>\u001b[0m \u001b[39melse\u001b[39;00m:\n\u001b[0;32m-> <a href='file:///~/miniforge3/envs/caret_env/lib/python3.8/site-packages/pandas/core/dtypes/cast.py?line=1256'>1257</a>\u001b[0m     values \u001b[39m=\u001b[39m astype_nansafe(values, dtype, copy\u001b[39m=\u001b[39;49mcopy)\n\u001b[1;32m   <a href='file:///~/miniforge3/envs/caret_env/lib/python3.8/site-packages/pandas/core/dtypes/cast.py?line=1258'>1259</a>\u001b[0m \u001b[39m# in pandas we don't store numpy str dtypes, so convert to object\u001b[39;00m\n\u001b[1;32m   <a href='file:///~/miniforge3/envs/caret_env/lib/python3.8/site-packages/pandas/core/dtypes/cast.py?line=1259'>1260</a>\u001b[0m \u001b[39mif\u001b[39;00m \u001b[39misinstance\u001b[39m(dtype, np\u001b[39m.\u001b[39mdtype) \u001b[39mand\u001b[39;00m \u001b[39missubclass\u001b[39m(values\u001b[39m.\u001b[39mdtype\u001b[39m.\u001b[39mtype, \u001b[39mstr\u001b[39m):\n",
      "File \u001b[0;32m~/miniforge3/envs/caret_env/lib/python3.8/site-packages/pandas/core/dtypes/cast.py:1201\u001b[0m, in \u001b[0;36mastype_nansafe\u001b[0;34m(arr, dtype, copy, skipna)\u001b[0m\n\u001b[1;32m   <a href='file:///~/miniforge3/envs/caret_env/lib/python3.8/site-packages/pandas/core/dtypes/cast.py?line=1196'>1197</a>\u001b[0m     \u001b[39mraise\u001b[39;00m \u001b[39mValueError\u001b[39;00m(msg)\n\u001b[1;32m   <a href='file:///~/miniforge3/envs/caret_env/lib/python3.8/site-packages/pandas/core/dtypes/cast.py?line=1198'>1199</a>\u001b[0m \u001b[39mif\u001b[39;00m copy \u001b[39mor\u001b[39;00m is_object_dtype(arr\u001b[39m.\u001b[39mdtype) \u001b[39mor\u001b[39;00m is_object_dtype(dtype):\n\u001b[1;32m   <a href='file:///~/miniforge3/envs/caret_env/lib/python3.8/site-packages/pandas/core/dtypes/cast.py?line=1199'>1200</a>\u001b[0m     \u001b[39m# Explicit copy, or required since NumPy can't view from / to object.\u001b[39;00m\n\u001b[0;32m-> <a href='file:///~/miniforge3/envs/caret_env/lib/python3.8/site-packages/pandas/core/dtypes/cast.py?line=1200'>1201</a>\u001b[0m     \u001b[39mreturn\u001b[39;00m arr\u001b[39m.\u001b[39;49mastype(dtype, copy\u001b[39m=\u001b[39;49m\u001b[39mTrue\u001b[39;49;00m)\n\u001b[1;32m   <a href='file:///~/miniforge3/envs/caret_env/lib/python3.8/site-packages/pandas/core/dtypes/cast.py?line=1202'>1203</a>\u001b[0m \u001b[39mreturn\u001b[39;00m arr\u001b[39m.\u001b[39mastype(dtype, copy\u001b[39m=\u001b[39mcopy)\n",
      "\u001b[0;31mValueError\u001b[0m: could not convert string to float: '구름 많음'"
     ]
    }
   ],
   "source": [
    "model.predict(X_val)"
   ]
  }
 ],
 "metadata": {
  "interpreter": {
   "hash": "e8ea1b3041488c797c92c24333f600767ba9f896e2a583aa16ca3e6133b40234"
  },
  "kernelspec": {
   "display_name": "Python 3.8.12 ('caret_env')",
   "language": "python",
   "name": "python3"
  },
  "language_info": {
   "codemirror_mode": {
    "name": "ipython",
    "version": 3
   },
   "file_extension": ".py",
   "mimetype": "text/x-python",
   "name": "python",
   "nbconvert_exporter": "python",
   "pygments_lexer": "ipython3",
   "version": "3.8.12"
  },
  "orig_nbformat": 4
 },
 "nbformat": 4,
 "nbformat_minor": 2
}
